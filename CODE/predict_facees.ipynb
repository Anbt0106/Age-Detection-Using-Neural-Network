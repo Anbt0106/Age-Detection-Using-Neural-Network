{
 "cells": [
  {
   "metadata": {
    "ExecuteTime": {
     "end_time": "2025-05-28T12:16:49.071112Z",
     "start_time": "2025-05-28T12:16:44.469782Z"
    }
   },
   "cell_type": "code",
   "source": [
    "import tensorflow as tf\n",
    "\n",
    "print(\"Phiên bản TensorFlow trên Kaggle là:\", tf.__version__)"
   ],
   "id": "1625273ee1b13dfc",
   "outputs": [
    {
     "name": "stderr",
     "output_type": "stream",
     "text": [
      "C:\\Users\\buian\\anaconda3\\envs\\tf-gpu\\lib\\site-packages\\requests\\__init__.py:86: RequestsDependencyWarning: Unable to find acceptable character detection dependency (chardet or charset_normalizer).\n",
      "  warnings.warn(\n"
     ]
    },
    {
     "name": "stdout",
     "output_type": "stream",
     "text": [
      "Phiên bản TensorFlow trên Kaggle là: 2.18.0\n"
     ]
    }
   ],
   "execution_count": 1
  },
  {
   "cell_type": "code",
   "id": "initial_id",
   "metadata": {
    "collapsed": true,
    "ExecuteTime": {
     "end_time": "2025-05-28T12:16:49.867135Z",
     "start_time": "2025-05-28T12:16:49.290542Z"
    }
   },
   "source": [
    "from tensorflow.keras.models import load_model\n",
    "import cv2\n",
    "import numpy as np\n",
    "\n",
    "# Load model\n",
    "model = load_model('E:\\\\Pycharm\\\\Age-Detection-Using-Neural-Network\\\\Model\\\\agemodel2.h5')\n",
    "# Đọc và tiền xử lý ảnh\n",
    "img = cv2.imread('E:\\\\Pycharm\\\\Age-Detection-Using-Neural-Network\\\\DATA\\\\UTKFace\\\\Face_Detection\\\\27_1_0_20170119155531065_face0.jpg')\n",
    "img = cv2.cvtColor(img, cv2.COLOR_BGR2RGB)\n",
    "img = cv2.resize(img, (200, 200))      # Input phù hợp với layer conv đầu tiên\n",
    "img = img / 255.0                      # Normalize về [0, 1]\n",
    "img = np.expand_dims(img, axis=0)     # Thêm batch dimension\n",
    "\n",
    "# Dự đoán tuổi\n",
    "predicted_age = model.predict(img)[0][0]\n",
    "\n",
    "print(f\"Dự đoán tuổi: {predicted_age:.2f}\")\n"
   ],
   "outputs": [
    {
     "name": "stderr",
     "output_type": "stream",
     "text": [
      "WARNING:absl:Compiled the loaded model, but the compiled metrics have yet to be built. `model.compile_metrics` will be empty until you train or evaluate the model.\n"
     ]
    },
    {
     "name": "stdout",
     "output_type": "stream",
     "text": [
      "\u001B[1m1/1\u001B[0m \u001B[32m━━━━━━━━━━━━━━━━━━━━\u001B[0m\u001B[37m\u001B[0m \u001B[1m0s\u001B[0m 220ms/step\n",
      "Dự đoán tuổi: 29.97\n"
     ]
    }
   ],
   "execution_count": 2
  },
  {
   "metadata": {
    "ExecuteTime": {
     "end_time": "2025-05-28T12:16:49.913446Z",
     "start_time": "2025-05-28T12:16:49.899678Z"
    }
   },
   "cell_type": "code",
   "source": "",
   "id": "a8803c071d1bbcb7",
   "outputs": [],
   "execution_count": null
  }
 ],
 "metadata": {
  "kernelspec": {
   "display_name": "Python 3",
   "language": "python",
   "name": "python3"
  },
  "language_info": {
   "codemirror_mode": {
    "name": "ipython",
    "version": 2
   },
   "file_extension": ".py",
   "mimetype": "text/x-python",
   "name": "python",
   "nbconvert_exporter": "python",
   "pygments_lexer": "ipython2",
   "version": "2.7.6"
  }
 },
 "nbformat": 4,
 "nbformat_minor": 5
}
