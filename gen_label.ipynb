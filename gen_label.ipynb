{
 "cells": [
  {
   "cell_type": "code",
   "id": "initial_id",
   "metadata": {
    "collapsed": true,
    "ExecuteTime": {
     "end_time": "2025-05-21T04:37:30.674371Z",
     "start_time": "2025-05-21T04:37:30.462105Z"
    }
   },
   "source": [
    "import os\n",
    "import pandas as pd\n",
    "\n",
    "base_path = 'E:\\\\Pycharm\\\\Age-Detection-Using-Neural-Network\\\\'\n",
    "folder_path = os.path.join(base_path, 'DATA', 'UTKFace','Face_Detection')\n",
    "output_txt = os.path.join(base_path, 'DATA', 'face_detection_file_paths.txt')\n",
    "output_csv = os.path.join(base_path, 'DATA', 'face_detection_label.csv')\n",
    "\n",
    "image_names = [f for f in os.listdir(folder_path) if f.lower().endswith('.jpg')]\n",
    "\n",
    "image_paths = []\n",
    "ages = []\n",
    "genders = []\n",
    "races = []\n",
    "\n",
    "with open(output_txt, 'w') as f:\n",
    "    for name in image_names:\n",
    "        relative_path = os.path.join('DATA', 'UTKFace','Face_Detection', name)\n",
    "        f.write(relative_path + '\\n')\n",
    "\n",
    "        parts = name.split('_')\n",
    "        if len(parts) >= 4 and all(p.strip().isdigit() for p in parts[:3]):\n",
    "            age = int(parts[0])\n",
    "            gender = int(parts[1])\n",
    "            race = int(parts[2])\n",
    "\n",
    "            image_paths.append(relative_path)\n",
    "            ages.append(age)\n",
    "            genders.append(gender)\n",
    "            races.append(race)\n",
    "        else:\n",
    "            print(f\"Bỏ qua file không hợp lệ: {name}\")\n",
    "\n",
    "print(f\"Đã lưu {len(image_names)} tên ảnh vào '{output_txt}'.\")\n",
    "\n",
    "df = pd.DataFrame({'image': image_paths, 'age': ages, 'gender': genders, 'races': races})\n",
    "df.to_csv(output_csv, index=False)\n",
    "print(f\"{output_csv} is saved\")\n",
    "print(df.head())\n"
   ],
   "outputs": [
    {
     "name": "stdout",
     "output_type": "stream",
     "text": [
      "Bỏ qua file không hợp lệ: 53__0_20170116184028385_face0.jpg\n",
      "Đã lưu 19099 tên ảnh vào 'E:\\Pycharm\\Age-Detection-Using-Neural-Network\\DATA\\face_detection_file_paths.txt'.\n",
      "E:\\Pycharm\\Age-Detection-Using-Neural-Network\\DATA\\face_detection_label.csv is saved\n",
      "                                               image  age  gender  races\n",
      "0  DATA\\UTKFace\\Face_Detection\\100_0_0_2017011221...  100       0      0\n",
      "1  DATA\\UTKFace\\Face_Detection\\100_0_0_2017011221...  100       0      0\n",
      "2  DATA\\UTKFace\\Face_Detection\\100_1_0_2017011018...  100       1      0\n",
      "3  DATA\\UTKFace\\Face_Detection\\100_1_0_2017011221...  100       1      0\n",
      "4  DATA\\UTKFace\\Face_Detection\\100_1_0_2017011221...  100       1      0\n"
     ]
    }
   ],
   "execution_count": 4
  }
 ],
 "metadata": {
  "kernelspec": {
   "display_name": "Python 3",
   "language": "python",
   "name": "python3"
  },
  "language_info": {
   "codemirror_mode": {
    "name": "ipython",
    "version": 2
   },
   "file_extension": ".py",
   "mimetype": "text/x-python",
   "name": "python",
   "nbconvert_exporter": "python",
   "pygments_lexer": "ipython2",
   "version": "2.7.6"
  }
 },
 "nbformat": 4,
 "nbformat_minor": 5
}
