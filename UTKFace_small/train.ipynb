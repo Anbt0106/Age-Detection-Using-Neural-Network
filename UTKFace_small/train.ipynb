{
 "cells": [
  {
   "cell_type": "code",
   "id": "initial_id",
   "metadata": {
    "collapsed": true,
    "ExecuteTime": {
     "end_time": "2025-05-02T17:46:30.798808Z",
     "start_time": "2025-05-02T17:46:30.783156Z"
    }
   },
   "source": [
    "# Imports\n",
    "\n",
    "import pandas as pd\n",
    "import numpy as np\n",
    "import matplotlib.pyplot as plt\n",
    "\n",
    "import cv2\n",
    "import os\n",
    "from zipfile import ZipFile\n",
    "import time\n",
    "from datetime import datetime\n",
    "import itertools\n",
    "\n",
    "from sklearn.model_selection import train_test_split\n",
    "from sklearn.metrics import confusion_matrix\n",
    "\n",
    "import tensorflow as tf\n",
    "from tensorflow.keras.models import Sequential\n",
    "from tensorflow.keras.layers import Dense\n",
    "from tensorflow.keras.layers import Conv2D, AveragePooling2D, GlobalAveragePooling2D\n",
    "from tensorflow.keras import utils\n",
    "from tensorflow.keras.callbacks import TensorBoard, ModelCheckpoint\n",
    "\n",
    "np.random.seed(42)\n",
    "tf.random.set_seed(42)"
   ],
   "outputs": [],
   "execution_count": 98
  },
  {
   "metadata": {
    "ExecuteTime": {
     "end_time": "2025-05-02T17:46:30.846720Z",
     "start_time": "2025-05-02T17:46:30.830974Z"
    }
   },
   "cell_type": "code",
   "source": [
    "device_name = tf.test.gpu_device_name()\n",
    "if device_name != '/device:GPU:0':\n",
    "    raise SystemError('GPU device not found')\n",
    "print('Found GPU at: {}'.format(device_name))"
   ],
   "id": "34c9fc3bba1b3e4b",
   "outputs": [
    {
     "name": "stdout",
     "output_type": "stream",
     "text": [
      "Found GPU at: /device:GPU:0\n"
     ]
    }
   ],
   "execution_count": 99
  },
  {
   "metadata": {},
   "cell_type": "markdown",
   "source": "## DATASET",
   "id": "ae205280c2c8af70"
  },
  {
   "metadata": {
    "ExecuteTime": {
     "end_time": "2025-05-02T17:46:30.901611Z",
     "start_time": "2025-05-02T17:46:30.878549Z"
    }
   },
   "cell_type": "code",
   "source": [
    "root_dir = 'E:\\\\Pycharm\\\\Age-Detection-Using-Neural-Network\\\\UTKFace_small'\n",
    "\n",
    "# file csv lưu đường dẫn đến các ảnh trong dataset và nhãn của chúng\n",
    "file_path = os.path.join(root_dir, 'DATA_FACE_Label.csv')\n",
    "\n",
    "# đọc file csv\n",
    "df = pd.read_csv(file_path)\n",
    "df['path_name'] = df['image'].apply(lambda x: os.path.join(root_dir, x))\n",
    "df['age'] = df['age'].apply(lambda x: 0 if x < 10 else (\n",
    "    1 if x < 20 else (2 if x < 30 else (3 if x < 40 else (4 if x < 50 else (5 if x < 60 else (6 if x < 70 else 7)))))))\n",
    "\n",
    "#chia thành 2 phần train và test tỉ lệ 80% train và 20% test\n",
    "\n",
    "train_df, test_df = train_test_split(df, test_size=0.2, random_state=42)\n"
   ],
   "id": "c5fabacc8f8104a8",
   "outputs": [],
   "execution_count": 100
  },
  {
   "metadata": {
    "ExecuteTime": {
     "end_time": "2025-05-02T17:46:30.981086Z",
     "start_time": "2025-05-02T17:46:30.965017Z"
    }
   },
   "cell_type": "code",
   "source": "train_df['path_name'].head()\n",
   "id": "98c2ef6579dcbba6",
   "outputs": [
    {
     "data": {
      "text/plain": [
       "1404    E:\\Pycharm\\Age-Detection-Using-Neural-Network\\...\n",
       "721     E:\\Pycharm\\Age-Detection-Using-Neural-Network\\...\n",
       "518     E:\\Pycharm\\Age-Detection-Using-Neural-Network\\...\n",
       "199     E:\\Pycharm\\Age-Detection-Using-Neural-Network\\...\n",
       "1672    E:\\Pycharm\\Age-Detection-Using-Neural-Network\\...\n",
       "Name: path_name, dtype: object"
      ]
     },
     "execution_count": 101,
     "metadata": {},
     "output_type": "execute_result"
    }
   ],
   "execution_count": 101
  },
  {
   "metadata": {
    "ExecuteTime": {
     "end_time": "2025-05-02T17:46:31.071012Z",
     "start_time": "2025-05-02T17:46:31.045881Z"
    }
   },
   "cell_type": "code",
   "source": "train_df['age'].head()",
   "id": "a255d9d864cdc3f2",
   "outputs": [
    {
     "data": {
      "text/plain": [
       "1404    5\n",
       "721     3\n",
       "518     2\n",
       "199     2\n",
       "1672    7\n",
       "Name: age, dtype: int64"
      ]
     },
     "execution_count": 102,
     "metadata": {},
     "output_type": "execute_result"
    }
   ],
   "execution_count": 102
  },
  {
   "metadata": {
    "ExecuteTime": {
     "end_time": "2025-05-02T17:46:31.187331Z",
     "start_time": "2025-05-02T17:46:31.172325Z"
    }
   },
   "cell_type": "code",
   "source": [
    "train_filenames_list = list(train_df['path_name'])\n",
    "train_labels_list = list(train_df['age'])\n",
    "\n",
    "test_filenames_list = list(test_df['path_name'])\n",
    "test_labels_list = list(test_df['age'])"
   ],
   "id": "4e61d442c10abc04",
   "outputs": [],
   "execution_count": 103
  },
  {
   "metadata": {
    "ExecuteTime": {
     "end_time": "2025-05-02T17:46:31.272673Z",
     "start_time": "2025-05-02T17:46:31.256593Z"
    }
   },
   "cell_type": "code",
   "source": "len(train_filenames_list), len(train_labels_list), len(test_filenames_list), len(test_labels_list)",
   "id": "65e4b7ff177a87a7",
   "outputs": [
    {
     "data": {
      "text/plain": [
       "(1410, 1410, 353, 353)"
      ]
     },
     "execution_count": 104,
     "metadata": {},
     "output_type": "execute_result"
    }
   ],
   "execution_count": 104
  },
  {
   "metadata": {
    "ExecuteTime": {
     "end_time": "2025-05-02T17:46:31.350795Z",
     "start_time": "2025-05-02T17:46:31.304093Z"
    }
   },
   "cell_type": "code",
   "source": [
    "num_classes =7\n",
    "\n",
    "\n",
    "def _parse_function(filename, label):\n",
    "    image_string = tf.io.read_file(filename)\n",
    "    image_decoded = tf.io.decode_jpeg(image_string, channels=1)\n",
    "    image_resized = tf.image.resize(image_decoded, [200, 200])  # Đúng kích thước input của model\n",
    "    image_normalized = image_resized / 255.0\n",
    "    label_onehot = tf.one_hot(label, num_classes)\n",
    "    return image_normalized, label_onehot\n",
    "\n",
    "\n",
    "train_dataset = tf.data.Dataset.from_tensor_slices((train_filenames_list, train_labels_list))\n",
    "train_dataset = train_dataset.map(_parse_function)\n",
    "train_dataset = train_dataset.batch(512).shuffle(1000)\n",
    "\n",
    "test_dataset = tf.data.Dataset.from_tensor_slices((test_filenames_list, test_labels_list))\n",
    "test_dataset = test_dataset.map(_parse_function)\n",
    "test_dataset = test_dataset.batch(512)\n"
   ],
   "id": "1f7039d9a1fed144",
   "outputs": [],
   "execution_count": 105
  },
  {
   "metadata": {},
   "cell_type": "markdown",
   "source": "## CNN Architecture",
   "id": "5c66dcc225eb9553"
  },
  {
   "metadata": {
    "ExecuteTime": {
     "end_time": "2025-05-02T17:46:31.487717Z",
     "start_time": "2025-05-02T17:46:31.382218Z"
    }
   },
   "cell_type": "code",
   "source": [
    "\n",
    "model = Sequential()\n",
    "\n",
    "model.add(Conv2D(filters=32, kernel_size=3, activation='relu',\n",
    "                 input_shape=(200, 200, 1)))  # 3rd dim = 1 for grayscale images.\n",
    "model.add(AveragePooling2D(pool_size=(2, 2)))\n",
    "\n",
    "model.add(Conv2D(filters=64, kernel_size=3, activation='relu'))\n",
    "model.add(AveragePooling2D(pool_size=(2, 2)))\n",
    "\n",
    "model.add(Conv2D(filters=128, kernel_size=3, activation='relu'))\n",
    "model.add(AveragePooling2D(pool_size=(2, 2)))\n",
    "\n",
    "model.add(Conv2D(filters=256, kernel_size=3, activation='relu'))\n",
    "model.add(AveragePooling2D(pool_size=(2, 2)))\n",
    "\n",
    "model.add(GlobalAveragePooling2D())\n",
    "\n",
    "model.add(Dense(132, activation='relu'))\n",
    "\n",
    "model.add(Dense(7, activation='softmax'))\n",
    "\n",
    "model.summary()"
   ],
   "id": "31b48f33df623d4f",
   "outputs": [
    {
     "name": "stdout",
     "output_type": "stream",
     "text": [
      "Model: \"sequential_7\"\n",
      "_________________________________________________________________\n",
      " Layer (type)                Output Shape              Param #   \n",
      "=================================================================\n",
      " conv2d_28 (Conv2D)          (None, 198, 198, 32)      320       \n",
      "                                                                 \n",
      " average_pooling2d_28 (Avera  (None, 99, 99, 32)       0         \n",
      " gePooling2D)                                                    \n",
      "                                                                 \n",
      " conv2d_29 (Conv2D)          (None, 97, 97, 64)        18496     \n",
      "                                                                 \n",
      " average_pooling2d_29 (Avera  (None, 48, 48, 64)       0         \n",
      " gePooling2D)                                                    \n",
      "                                                                 \n",
      " conv2d_30 (Conv2D)          (None, 46, 46, 128)       73856     \n",
      "                                                                 \n",
      " average_pooling2d_30 (Avera  (None, 23, 23, 128)      0         \n",
      " gePooling2D)                                                    \n",
      "                                                                 \n",
      " conv2d_31 (Conv2D)          (None, 21, 21, 256)       295168    \n",
      "                                                                 \n",
      " average_pooling2d_31 (Avera  (None, 10, 10, 256)      0         \n",
      " gePooling2D)                                                    \n",
      "                                                                 \n",
      " global_average_pooling2d_7   (None, 256)              0         \n",
      " (GlobalAveragePooling2D)                                        \n",
      "                                                                 \n",
      " dense_14 (Dense)            (None, 132)               33924     \n",
      "                                                                 \n",
      " dense_15 (Dense)            (None, 7)                 931       \n",
      "                                                                 \n",
      "=================================================================\n",
      "Total params: 422,695\n",
      "Trainable params: 422,695\n",
      "Non-trainable params: 0\n",
      "_________________________________________________________________\n"
     ]
    }
   ],
   "execution_count": 106
  },
  {
   "metadata": {
    "ExecuteTime": {
     "end_time": "2025-05-02T17:46:31.507172Z",
     "start_time": "2025-05-02T17:46:31.498251Z"
    }
   },
   "cell_type": "code",
   "source": "model.compile(loss='categorical_crossentropy', optimizer='adam', metrics=['accuracy'])",
   "id": "12666a8fd4493bde",
   "outputs": [],
   "execution_count": 107
  },
  {
   "metadata": {},
   "cell_type": "markdown",
   "source": "## Model fitting",
   "id": "7ab922ac02aa180"
  },
  {
   "metadata": {
    "ExecuteTime": {
     "end_time": "2025-05-02T17:46:42.310495Z",
     "start_time": "2025-05-02T17:46:31.539261Z"
    }
   },
   "cell_type": "code",
   "source": "model.fit(train_dataset, validation_data=test_dataset, epochs=10)\n",
   "id": "38ece2fc8034781b",
   "outputs": [
    {
     "name": "stdout",
     "output_type": "stream",
     "text": [
      "Epoch 1/10\n"
     ]
    },
    {
     "ename": "ResourceExhaustedError",
     "evalue": "Graph execution error:\n\nDetected at node 'sequential_7/conv2d_28/Relu' defined at (most recent call last):\n    File \"C:\\Users\\buian\\anaconda3\\envs\\tf-gpu\\lib\\runpy.py\", line 196, in _run_module_as_main\n      return _run_code(code, main_globals, None,\n    File \"C:\\Users\\buian\\anaconda3\\envs\\tf-gpu\\lib\\runpy.py\", line 86, in _run_code\n      exec(code, run_globals)\n    File \"C:\\Users\\buian\\anaconda3\\envs\\tf-gpu\\lib\\site-packages\\ipykernel_launcher.py\", line 18, in <module>\n      app.launch_new_instance()\n    File \"C:\\Users\\buian\\anaconda3\\envs\\tf-gpu\\lib\\site-packages\\traitlets\\config\\application.py\", line 1075, in launch_instance\n      app.start()\n    File \"C:\\Users\\buian\\anaconda3\\envs\\tf-gpu\\lib\\site-packages\\ipykernel\\kernelapp.py\", line 739, in start\n      self.io_loop.start()\n    File \"C:\\Users\\buian\\anaconda3\\envs\\tf-gpu\\lib\\site-packages\\tornado\\platform\\asyncio.py\", line 205, in start\n      self.asyncio_loop.run_forever()\n    File \"C:\\Users\\buian\\anaconda3\\envs\\tf-gpu\\lib\\asyncio\\base_events.py\", line 603, in run_forever\n      self._run_once()\n    File \"C:\\Users\\buian\\anaconda3\\envs\\tf-gpu\\lib\\asyncio\\base_events.py\", line 1909, in _run_once\n      handle._run()\n    File \"C:\\Users\\buian\\anaconda3\\envs\\tf-gpu\\lib\\asyncio\\events.py\", line 80, in _run\n      self._context.run(self._callback, *self._args)\n    File \"C:\\Users\\buian\\anaconda3\\envs\\tf-gpu\\lib\\site-packages\\ipykernel\\kernelbase.py\", line 545, in dispatch_queue\n      await self.process_one()\n    File \"C:\\Users\\buian\\anaconda3\\envs\\tf-gpu\\lib\\site-packages\\ipykernel\\kernelbase.py\", line 534, in process_one\n      await dispatch(*args)\n    File \"C:\\Users\\buian\\anaconda3\\envs\\tf-gpu\\lib\\site-packages\\ipykernel\\kernelbase.py\", line 437, in dispatch_shell\n      await result\n    File \"C:\\Users\\buian\\anaconda3\\envs\\tf-gpu\\lib\\site-packages\\ipykernel\\ipkernel.py\", line 362, in execute_request\n      await super().execute_request(stream, ident, parent)\n    File \"C:\\Users\\buian\\anaconda3\\envs\\tf-gpu\\lib\\site-packages\\ipykernel\\kernelbase.py\", line 778, in execute_request\n      reply_content = await reply_content\n    File \"C:\\Users\\buian\\anaconda3\\envs\\tf-gpu\\lib\\site-packages\\ipykernel\\ipkernel.py\", line 449, in do_execute\n      res = shell.run_cell(\n    File \"C:\\Users\\buian\\anaconda3\\envs\\tf-gpu\\lib\\site-packages\\ipykernel\\zmqshell.py\", line 549, in run_cell\n      return super().run_cell(*args, **kwargs)\n    File \"C:\\Users\\buian\\anaconda3\\envs\\tf-gpu\\lib\\site-packages\\IPython\\core\\interactiveshell.py\", line 3077, in run_cell\n      result = self._run_cell(\n    File \"C:\\Users\\buian\\anaconda3\\envs\\tf-gpu\\lib\\site-packages\\IPython\\core\\interactiveshell.py\", line 3132, in _run_cell\n      result = runner(coro)\n    File \"C:\\Users\\buian\\anaconda3\\envs\\tf-gpu\\lib\\site-packages\\IPython\\core\\async_helpers.py\", line 128, in _pseudo_sync_runner\n      coro.send(None)\n    File \"C:\\Users\\buian\\anaconda3\\envs\\tf-gpu\\lib\\site-packages\\IPython\\core\\interactiveshell.py\", line 3336, in run_cell_async\n      has_raised = await self.run_ast_nodes(code_ast.body, cell_name,\n    File \"C:\\Users\\buian\\anaconda3\\envs\\tf-gpu\\lib\\site-packages\\IPython\\core\\interactiveshell.py\", line 3519, in run_ast_nodes\n      if await self.run_code(code, result, async_=asy):\n    File \"C:\\Users\\buian\\anaconda3\\envs\\tf-gpu\\lib\\site-packages\\IPython\\core\\interactiveshell.py\", line 3579, in run_code\n      exec(code_obj, self.user_global_ns, self.user_ns)\n    File \"C:\\Users\\buian\\AppData\\Local\\Temp\\ipykernel_6956\\2766235903.py\", line 1, in <module>\n      model.fit(train_dataset, validation_data=test_dataset, epochs=10)\n    File \"C:\\Users\\buian\\anaconda3\\envs\\tf-gpu\\lib\\site-packages\\keras\\utils\\traceback_utils.py\", line 65, in error_handler\n      return fn(*args, **kwargs)\n    File \"C:\\Users\\buian\\anaconda3\\envs\\tf-gpu\\lib\\site-packages\\keras\\engine\\training.py\", line 1564, in fit\n      tmp_logs = self.train_function(iterator)\n    File \"C:\\Users\\buian\\anaconda3\\envs\\tf-gpu\\lib\\site-packages\\keras\\engine\\training.py\", line 1160, in train_function\n      return step_function(self, iterator)\n    File \"C:\\Users\\buian\\anaconda3\\envs\\tf-gpu\\lib\\site-packages\\keras\\engine\\training.py\", line 1146, in step_function\n      outputs = model.distribute_strategy.run(run_step, args=(data,))\n    File \"C:\\Users\\buian\\anaconda3\\envs\\tf-gpu\\lib\\site-packages\\keras\\engine\\training.py\", line 1135, in run_step\n      outputs = model.train_step(data)\n    File \"C:\\Users\\buian\\anaconda3\\envs\\tf-gpu\\lib\\site-packages\\keras\\engine\\training.py\", line 993, in train_step\n      y_pred = self(x, training=True)\n    File \"C:\\Users\\buian\\anaconda3\\envs\\tf-gpu\\lib\\site-packages\\keras\\utils\\traceback_utils.py\", line 65, in error_handler\n      return fn(*args, **kwargs)\n    File \"C:\\Users\\buian\\anaconda3\\envs\\tf-gpu\\lib\\site-packages\\keras\\engine\\training.py\", line 557, in __call__\n      return super().__call__(*args, **kwargs)\n    File \"C:\\Users\\buian\\anaconda3\\envs\\tf-gpu\\lib\\site-packages\\keras\\utils\\traceback_utils.py\", line 65, in error_handler\n      return fn(*args, **kwargs)\n    File \"C:\\Users\\buian\\anaconda3\\envs\\tf-gpu\\lib\\site-packages\\keras\\engine\\base_layer.py\", line 1097, in __call__\n      outputs = call_fn(inputs, *args, **kwargs)\n    File \"C:\\Users\\buian\\anaconda3\\envs\\tf-gpu\\lib\\site-packages\\keras\\utils\\traceback_utils.py\", line 96, in error_handler\n      return fn(*args, **kwargs)\n    File \"C:\\Users\\buian\\anaconda3\\envs\\tf-gpu\\lib\\site-packages\\keras\\engine\\sequential.py\", line 410, in call\n      return super().call(inputs, training=training, mask=mask)\n    File \"C:\\Users\\buian\\anaconda3\\envs\\tf-gpu\\lib\\site-packages\\keras\\engine\\functional.py\", line 510, in call\n      return self._run_internal_graph(inputs, training=training, mask=mask)\n    File \"C:\\Users\\buian\\anaconda3\\envs\\tf-gpu\\lib\\site-packages\\keras\\engine\\functional.py\", line 667, in _run_internal_graph\n      outputs = node.layer(*args, **kwargs)\n    File \"C:\\Users\\buian\\anaconda3\\envs\\tf-gpu\\lib\\site-packages\\keras\\utils\\traceback_utils.py\", line 65, in error_handler\n      return fn(*args, **kwargs)\n    File \"C:\\Users\\buian\\anaconda3\\envs\\tf-gpu\\lib\\site-packages\\keras\\engine\\base_layer.py\", line 1097, in __call__\n      outputs = call_fn(inputs, *args, **kwargs)\n    File \"C:\\Users\\buian\\anaconda3\\envs\\tf-gpu\\lib\\site-packages\\keras\\utils\\traceback_utils.py\", line 96, in error_handler\n      return fn(*args, **kwargs)\n    File \"C:\\Users\\buian\\anaconda3\\envs\\tf-gpu\\lib\\site-packages\\keras\\layers\\convolutional\\base_conv.py\", line 314, in call\n      return self.activation(outputs)\n    File \"C:\\Users\\buian\\anaconda3\\envs\\tf-gpu\\lib\\site-packages\\keras\\activations.py\", line 317, in relu\n      return backend.relu(\n    File \"C:\\Users\\buian\\anaconda3\\envs\\tf-gpu\\lib\\site-packages\\keras\\backend.py\", line 5366, in relu\n      x = tf.nn.relu(x)\nNode: 'sequential_7/conv2d_28/Relu'\nOOM when allocating tensor with shape[386,198,198,32] and type float on /job:localhost/replica:0/task:0/device:GPU:0 by allocator GPU_0_bfc\n\t [[{{node sequential_7/conv2d_28/Relu}}]]\nHint: If you want to see a list of allocated tensors when OOM happens, add report_tensor_allocations_upon_oom to RunOptions for current allocation info. This isn't available when running in Eager mode.\n [Op:__inference_train_function_10469]",
     "output_type": "error",
     "traceback": [
      "\u001B[1;31m---------------------------------------------------------------------------\u001B[0m",
      "\u001B[1;31mResourceExhaustedError\u001B[0m                    Traceback (most recent call last)",
      "Cell \u001B[1;32mIn[108], line 1\u001B[0m\n\u001B[1;32m----> 1\u001B[0m \u001B[43mmodel\u001B[49m\u001B[38;5;241;43m.\u001B[39;49m\u001B[43mfit\u001B[49m\u001B[43m(\u001B[49m\u001B[43mtrain_dataset\u001B[49m\u001B[43m,\u001B[49m\u001B[43m \u001B[49m\u001B[43mvalidation_data\u001B[49m\u001B[38;5;241;43m=\u001B[39;49m\u001B[43mtest_dataset\u001B[49m\u001B[43m,\u001B[49m\u001B[43m \u001B[49m\u001B[43mepochs\u001B[49m\u001B[38;5;241;43m=\u001B[39;49m\u001B[38;5;241;43m10\u001B[39;49m\u001B[43m)\u001B[49m\n",
      "File \u001B[1;32m~\\anaconda3\\envs\\tf-gpu\\lib\\site-packages\\keras\\utils\\traceback_utils.py:70\u001B[0m, in \u001B[0;36mfilter_traceback.<locals>.error_handler\u001B[1;34m(*args, **kwargs)\u001B[0m\n\u001B[0;32m     67\u001B[0m     filtered_tb \u001B[38;5;241m=\u001B[39m _process_traceback_frames(e\u001B[38;5;241m.\u001B[39m__traceback__)\n\u001B[0;32m     68\u001B[0m     \u001B[38;5;66;03m# To get the full stack trace, call:\u001B[39;00m\n\u001B[0;32m     69\u001B[0m     \u001B[38;5;66;03m# `tf.debugging.disable_traceback_filtering()`\u001B[39;00m\n\u001B[1;32m---> 70\u001B[0m     \u001B[38;5;28;01mraise\u001B[39;00m e\u001B[38;5;241m.\u001B[39mwith_traceback(filtered_tb) \u001B[38;5;28;01mfrom\u001B[39;00m\u001B[38;5;250m \u001B[39m\u001B[38;5;28;01mNone\u001B[39;00m\n\u001B[0;32m     71\u001B[0m \u001B[38;5;28;01mfinally\u001B[39;00m:\n\u001B[0;32m     72\u001B[0m     \u001B[38;5;28;01mdel\u001B[39;00m filtered_tb\n",
      "File \u001B[1;32m~\\anaconda3\\envs\\tf-gpu\\lib\\site-packages\\tensorflow\\python\\eager\\execute.py:54\u001B[0m, in \u001B[0;36mquick_execute\u001B[1;34m(op_name, num_outputs, inputs, attrs, ctx, name)\u001B[0m\n\u001B[0;32m     52\u001B[0m \u001B[38;5;28;01mtry\u001B[39;00m:\n\u001B[0;32m     53\u001B[0m   ctx\u001B[38;5;241m.\u001B[39mensure_initialized()\n\u001B[1;32m---> 54\u001B[0m   tensors \u001B[38;5;241m=\u001B[39m pywrap_tfe\u001B[38;5;241m.\u001B[39mTFE_Py_Execute(ctx\u001B[38;5;241m.\u001B[39m_handle, device_name, op_name,\n\u001B[0;32m     55\u001B[0m                                       inputs, attrs, num_outputs)\n\u001B[0;32m     56\u001B[0m \u001B[38;5;28;01mexcept\u001B[39;00m core\u001B[38;5;241m.\u001B[39m_NotOkStatusException \u001B[38;5;28;01mas\u001B[39;00m e:\n\u001B[0;32m     57\u001B[0m   \u001B[38;5;28;01mif\u001B[39;00m name \u001B[38;5;129;01mis\u001B[39;00m \u001B[38;5;129;01mnot\u001B[39;00m \u001B[38;5;28;01mNone\u001B[39;00m:\n",
      "\u001B[1;31mResourceExhaustedError\u001B[0m: Graph execution error:\n\nDetected at node 'sequential_7/conv2d_28/Relu' defined at (most recent call last):\n    File \"C:\\Users\\buian\\anaconda3\\envs\\tf-gpu\\lib\\runpy.py\", line 196, in _run_module_as_main\n      return _run_code(code, main_globals, None,\n    File \"C:\\Users\\buian\\anaconda3\\envs\\tf-gpu\\lib\\runpy.py\", line 86, in _run_code\n      exec(code, run_globals)\n    File \"C:\\Users\\buian\\anaconda3\\envs\\tf-gpu\\lib\\site-packages\\ipykernel_launcher.py\", line 18, in <module>\n      app.launch_new_instance()\n    File \"C:\\Users\\buian\\anaconda3\\envs\\tf-gpu\\lib\\site-packages\\traitlets\\config\\application.py\", line 1075, in launch_instance\n      app.start()\n    File \"C:\\Users\\buian\\anaconda3\\envs\\tf-gpu\\lib\\site-packages\\ipykernel\\kernelapp.py\", line 739, in start\n      self.io_loop.start()\n    File \"C:\\Users\\buian\\anaconda3\\envs\\tf-gpu\\lib\\site-packages\\tornado\\platform\\asyncio.py\", line 205, in start\n      self.asyncio_loop.run_forever()\n    File \"C:\\Users\\buian\\anaconda3\\envs\\tf-gpu\\lib\\asyncio\\base_events.py\", line 603, in run_forever\n      self._run_once()\n    File \"C:\\Users\\buian\\anaconda3\\envs\\tf-gpu\\lib\\asyncio\\base_events.py\", line 1909, in _run_once\n      handle._run()\n    File \"C:\\Users\\buian\\anaconda3\\envs\\tf-gpu\\lib\\asyncio\\events.py\", line 80, in _run\n      self._context.run(self._callback, *self._args)\n    File \"C:\\Users\\buian\\anaconda3\\envs\\tf-gpu\\lib\\site-packages\\ipykernel\\kernelbase.py\", line 545, in dispatch_queue\n      await self.process_one()\n    File \"C:\\Users\\buian\\anaconda3\\envs\\tf-gpu\\lib\\site-packages\\ipykernel\\kernelbase.py\", line 534, in process_one\n      await dispatch(*args)\n    File \"C:\\Users\\buian\\anaconda3\\envs\\tf-gpu\\lib\\site-packages\\ipykernel\\kernelbase.py\", line 437, in dispatch_shell\n      await result\n    File \"C:\\Users\\buian\\anaconda3\\envs\\tf-gpu\\lib\\site-packages\\ipykernel\\ipkernel.py\", line 362, in execute_request\n      await super().execute_request(stream, ident, parent)\n    File \"C:\\Users\\buian\\anaconda3\\envs\\tf-gpu\\lib\\site-packages\\ipykernel\\kernelbase.py\", line 778, in execute_request\n      reply_content = await reply_content\n    File \"C:\\Users\\buian\\anaconda3\\envs\\tf-gpu\\lib\\site-packages\\ipykernel\\ipkernel.py\", line 449, in do_execute\n      res = shell.run_cell(\n    File \"C:\\Users\\buian\\anaconda3\\envs\\tf-gpu\\lib\\site-packages\\ipykernel\\zmqshell.py\", line 549, in run_cell\n      return super().run_cell(*args, **kwargs)\n    File \"C:\\Users\\buian\\anaconda3\\envs\\tf-gpu\\lib\\site-packages\\IPython\\core\\interactiveshell.py\", line 3077, in run_cell\n      result = self._run_cell(\n    File \"C:\\Users\\buian\\anaconda3\\envs\\tf-gpu\\lib\\site-packages\\IPython\\core\\interactiveshell.py\", line 3132, in _run_cell\n      result = runner(coro)\n    File \"C:\\Users\\buian\\anaconda3\\envs\\tf-gpu\\lib\\site-packages\\IPython\\core\\async_helpers.py\", line 128, in _pseudo_sync_runner\n      coro.send(None)\n    File \"C:\\Users\\buian\\anaconda3\\envs\\tf-gpu\\lib\\site-packages\\IPython\\core\\interactiveshell.py\", line 3336, in run_cell_async\n      has_raised = await self.run_ast_nodes(code_ast.body, cell_name,\n    File \"C:\\Users\\buian\\anaconda3\\envs\\tf-gpu\\lib\\site-packages\\IPython\\core\\interactiveshell.py\", line 3519, in run_ast_nodes\n      if await self.run_code(code, result, async_=asy):\n    File \"C:\\Users\\buian\\anaconda3\\envs\\tf-gpu\\lib\\site-packages\\IPython\\core\\interactiveshell.py\", line 3579, in run_code\n      exec(code_obj, self.user_global_ns, self.user_ns)\n    File \"C:\\Users\\buian\\AppData\\Local\\Temp\\ipykernel_6956\\2766235903.py\", line 1, in <module>\n      model.fit(train_dataset, validation_data=test_dataset, epochs=10)\n    File \"C:\\Users\\buian\\anaconda3\\envs\\tf-gpu\\lib\\site-packages\\keras\\utils\\traceback_utils.py\", line 65, in error_handler\n      return fn(*args, **kwargs)\n    File \"C:\\Users\\buian\\anaconda3\\envs\\tf-gpu\\lib\\site-packages\\keras\\engine\\training.py\", line 1564, in fit\n      tmp_logs = self.train_function(iterator)\n    File \"C:\\Users\\buian\\anaconda3\\envs\\tf-gpu\\lib\\site-packages\\keras\\engine\\training.py\", line 1160, in train_function\n      return step_function(self, iterator)\n    File \"C:\\Users\\buian\\anaconda3\\envs\\tf-gpu\\lib\\site-packages\\keras\\engine\\training.py\", line 1146, in step_function\n      outputs = model.distribute_strategy.run(run_step, args=(data,))\n    File \"C:\\Users\\buian\\anaconda3\\envs\\tf-gpu\\lib\\site-packages\\keras\\engine\\training.py\", line 1135, in run_step\n      outputs = model.train_step(data)\n    File \"C:\\Users\\buian\\anaconda3\\envs\\tf-gpu\\lib\\site-packages\\keras\\engine\\training.py\", line 993, in train_step\n      y_pred = self(x, training=True)\n    File \"C:\\Users\\buian\\anaconda3\\envs\\tf-gpu\\lib\\site-packages\\keras\\utils\\traceback_utils.py\", line 65, in error_handler\n      return fn(*args, **kwargs)\n    File \"C:\\Users\\buian\\anaconda3\\envs\\tf-gpu\\lib\\site-packages\\keras\\engine\\training.py\", line 557, in __call__\n      return super().__call__(*args, **kwargs)\n    File \"C:\\Users\\buian\\anaconda3\\envs\\tf-gpu\\lib\\site-packages\\keras\\utils\\traceback_utils.py\", line 65, in error_handler\n      return fn(*args, **kwargs)\n    File \"C:\\Users\\buian\\anaconda3\\envs\\tf-gpu\\lib\\site-packages\\keras\\engine\\base_layer.py\", line 1097, in __call__\n      outputs = call_fn(inputs, *args, **kwargs)\n    File \"C:\\Users\\buian\\anaconda3\\envs\\tf-gpu\\lib\\site-packages\\keras\\utils\\traceback_utils.py\", line 96, in error_handler\n      return fn(*args, **kwargs)\n    File \"C:\\Users\\buian\\anaconda3\\envs\\tf-gpu\\lib\\site-packages\\keras\\engine\\sequential.py\", line 410, in call\n      return super().call(inputs, training=training, mask=mask)\n    File \"C:\\Users\\buian\\anaconda3\\envs\\tf-gpu\\lib\\site-packages\\keras\\engine\\functional.py\", line 510, in call\n      return self._run_internal_graph(inputs, training=training, mask=mask)\n    File \"C:\\Users\\buian\\anaconda3\\envs\\tf-gpu\\lib\\site-packages\\keras\\engine\\functional.py\", line 667, in _run_internal_graph\n      outputs = node.layer(*args, **kwargs)\n    File \"C:\\Users\\buian\\anaconda3\\envs\\tf-gpu\\lib\\site-packages\\keras\\utils\\traceback_utils.py\", line 65, in error_handler\n      return fn(*args, **kwargs)\n    File \"C:\\Users\\buian\\anaconda3\\envs\\tf-gpu\\lib\\site-packages\\keras\\engine\\base_layer.py\", line 1097, in __call__\n      outputs = call_fn(inputs, *args, **kwargs)\n    File \"C:\\Users\\buian\\anaconda3\\envs\\tf-gpu\\lib\\site-packages\\keras\\utils\\traceback_utils.py\", line 96, in error_handler\n      return fn(*args, **kwargs)\n    File \"C:\\Users\\buian\\anaconda3\\envs\\tf-gpu\\lib\\site-packages\\keras\\layers\\convolutional\\base_conv.py\", line 314, in call\n      return self.activation(outputs)\n    File \"C:\\Users\\buian\\anaconda3\\envs\\tf-gpu\\lib\\site-packages\\keras\\activations.py\", line 317, in relu\n      return backend.relu(\n    File \"C:\\Users\\buian\\anaconda3\\envs\\tf-gpu\\lib\\site-packages\\keras\\backend.py\", line 5366, in relu\n      x = tf.nn.relu(x)\nNode: 'sequential_7/conv2d_28/Relu'\nOOM when allocating tensor with shape[386,198,198,32] and type float on /job:localhost/replica:0/task:0/device:GPU:0 by allocator GPU_0_bfc\n\t [[{{node sequential_7/conv2d_28/Relu}}]]\nHint: If you want to see a list of allocated tensors when OOM happens, add report_tensor_allocations_upon_oom to RunOptions for current allocation info. This isn't available when running in Eager mode.\n [Op:__inference_train_function_10469]"
     ]
    }
   ],
   "execution_count": 108
  }
 ],
 "metadata": {
  "kernelspec": {
   "display_name": "Python 3",
   "language": "python",
   "name": "python3"
  },
  "language_info": {
   "codemirror_mode": {
    "name": "ipython",
    "version": 2
   },
   "file_extension": ".py",
   "mimetype": "text/x-python",
   "name": "python",
   "nbconvert_exporter": "python",
   "pygments_lexer": "ipython2",
   "version": "2.7.6"
  }
 },
 "nbformat": 4,
 "nbformat_minor": 5
}
