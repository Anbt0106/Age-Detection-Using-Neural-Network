{
 "cells": [
  {
   "metadata": {},
   "cell_type": "markdown",
   "source": "## Import",
   "id": "55f283c2aba82980"
  },
  {
   "cell_type": "code",
   "id": "initial_id",
   "metadata": {
    "collapsed": true
   },
   "source": [
    "import pandas as pd\n",
    "import numpy as np\n",
    "import seaborn as sns\n",
    "import os\n",
    "from PIL import Image, ImageOps\n",
    "from sklearn.model_selection import train_test_split\n",
    "\n",
    "from keras.models import Sequential\n",
    "from keras.layers import Conv2D, MaxPooling2D, Activation, Dropout, Flatten, Dense\n",
    "from keras import optimizers\n",
    "from keras.preprocessing.image import ImageDataGenerator\n",
    "import tensorflow as tf"
   ],
   "outputs": [],
   "execution_count": null
  },
  {
   "metadata": {},
   "cell_type": "markdown",
   "source": "## Load data",
   "id": "226892c4218593a4"
  },
  {
   "metadata": {},
   "cell_type": "code",
   "source": [
    "# images = []\n",
    "# ages = []\n",
    "# genders = []\n",
    "#\n",
    "# for i in os.listdir('E:\\\\Pycharm\\\\Age-Detection-Using-Neural-Network\\\\DATA\\\\UTKFace\\\\Face_Detection\\\\'):\n",
    "#     split = i.split('_')\n",
    "#     ages.append(int(split[0]))\n",
    "#     genders.append(int(split[1]))\n",
    "#     images.append(Image.open('E:\\\\Pycharm\\\\Age-Detection-Using-Neural-Network\\\\DATA\\\\UTKFace\\\\Face_Detection\\\\' + i))\n",
    "\n",
    "\n",
    "from PIL import Image\n",
    "import os\n",
    "\n",
    "images = []\n",
    "ages = []\n",
    "genders = []\n",
    "\n",
    "folder = 'E:\\\\Pycharm\\\\Age-Detection-Using-Neural-Network\\\\DATA\\\\UTKFace\\\\Face_Detection\\\\'\n",
    "files = os.listdir(folder)\n",
    "\n",
    "for filename in files:\n",
    "    split = filename.split('_')\n",
    "    if len(split) >= 2 and split[0].isdigit() and split[1].isdigit():\n",
    "        try:\n",
    "            age = int(split[0])\n",
    "            gender = int(split[1])\n",
    "            path = os.path.join(folder, filename)\n",
    "\n",
    "            with Image.open(path) as img:\n",
    "                # img = img.resize((200, 200), Image.Resampling.LANCZOS)  # Resize nếu cần\n",
    "                images.append(img.copy())  # copy để giữ ảnh trong RAM sau khi file đóng\n",
    "\n",
    "            ages.append(age)\n",
    "            genders.append(gender)\n",
    "        except Exception as e:\n",
    "            print(f\"Bỏ qua ảnh lỗi {filename}: {e}\")\n"
   ],
   "id": "1a3ca6f08732f035",
   "outputs": [],
   "execution_count": null
  },
  {
   "metadata": {},
   "cell_type": "code",
   "source": [
    "images = pd.Series(list(images), name='Images')\n",
    "ages = pd.Series(list(ages), name='Ages')\n",
    "genders = pd.Series(list(genders), name='Genders')\n",
    "\n",
    "df = pd.concat([images, ages, genders], axis=1)\n",
    "df"
   ],
   "id": "2eb303c387d43c41",
   "outputs": [],
   "execution_count": null
  },
  {
   "metadata": {},
   "cell_type": "code",
   "source": [
    "display(df['Images'][0])\n",
    "print(df['Ages'][0], df['Genders'][0])"
   ],
   "id": "5b5e4ead24c59343",
   "outputs": [],
   "execution_count": null
  },
  {
   "metadata": {},
   "cell_type": "code",
   "source": [
    "display(df['Images'][1])\n",
    "print(df['Ages'][1], df['Genders'][1])"
   ],
   "id": "dc04b2d1c79adc87",
   "outputs": [],
   "execution_count": null
  },
  {
   "metadata": {},
   "cell_type": "markdown",
   "source": "## Visualize",
   "id": "acf8d6e9716521f5"
  },
  {
   "metadata": {},
   "cell_type": "code",
   "source": "sns.countplot(x='Ages', data=df)",
   "id": "fce35da0bd282f23",
   "outputs": [],
   "execution_count": null
  },
  {
   "metadata": {},
   "cell_type": "markdown",
   "source": "Too many faces of people between 0 and 4 years old. The model would fit too well to these ages and not enough to the other ages. To resolve this I'm only going to include a third of the images between these ages.",
   "id": "3f6bee834cecce40"
  },
  {
   "metadata": {},
   "cell_type": "code",
   "source": [
    "under4s = []\n",
    "\n",
    "for i in range(len(df)):\n",
    "    if df['Ages'].iloc[i] <= 4:\n",
    "        under4s.append(df.iloc[i])\n",
    "under4s = pd.DataFrame(under4s)\n",
    "under4s = under4s.sample(frac=0.3)\n",
    "\n",
    "df = df[df['Ages'] > 4]\n",
    "\n",
    "df = pd.concat([df, under4s], ignore_index=True)"
   ],
   "id": "150b33268f2183ad",
   "outputs": [],
   "execution_count": null
  },
  {
   "metadata": {},
   "cell_type": "code",
   "source": "sns.countplot(x='Ages', data=df)\n",
   "id": "2ec47398043cf37f",
   "outputs": [],
   "execution_count": null
  },
  {
   "metadata": {},
   "cell_type": "code",
   "source": [
    "x = []\n",
    "y = []\n",
    "\n",
    "for i in range(len(df)):\n",
    "    df['Images'].iloc[i] = df['Images'].iloc[i].resize((200, 200), Image.Resampling.LANCZOS)\n",
    "    ar = np.asarray(df['Images'].iloc[i])\n",
    "    x.append(ar)\n",
    "    agegen = [int(df['Ages'].iloc[i]), int(df['Genders'].iloc[i])]\n",
    "    y.append(agegen)\n",
    "x = np.array(x)"
   ],
   "id": "1eff15714e6f18a4",
   "outputs": [],
   "execution_count": null
  },
  {
   "metadata": {},
   "cell_type": "markdown",
   "source": "## Train and Test",
   "id": "3de79fef46357124"
  },
  {
   "metadata": {},
   "cell_type": "code",
   "source": [
    "y_age = df['Ages']\n",
    "y_gender = df['Genders']\n",
    "\n",
    "# x_train_age, x_test_age, y_train_age, y_test_age = train_test_split(x, y_age, test_size=0.2, stratify=y_age)\n",
    "# x_train_gender, x_test_gender, y_train_gender, y_test_gender = train_test_split(x, y_gender, test_size=0.2,\n",
    "#                                                                                 stratify=y_gender)\n",
    "\n",
    "x_train, x_test, y_age_train, y_age_test, y_gender_train, y_gender_test = train_test_split(\n",
    "    x, y_age, y_gender, test_size=0.2, random_state=42\n",
    ")\n",
    "\n",
    "#\n",
    "#\n",
    "# y_age = df['Ages']\n",
    "# y_gender = df['Genders']\n",
    "#\n",
    "# # Split for age prediction (no stratify)\n",
    "# x_train_age, x_test_age, y_train_age, y_test_age = train_test_split(\n",
    "#     x, y_age, test_size=0.2, random_state=42\n",
    "# )\n",
    "#\n",
    "# # Split for gender prediction (with stratify)\n",
    "# x_train_gender, x_test_gender, y_train_gender, y_test_gender = train_test_split(\n",
    "#     x, y_gender, test_size=0.2, stratify=y_gender, random_state=42\n",
    "# )\n"
   ],
   "id": "d62c25952efb7049",
   "outputs": [],
   "execution_count": null
  },
  {
   "metadata": {},
   "cell_type": "markdown",
   "source": "## Model",
   "id": "5a97901d52d8b25c"
  },
  {
   "metadata": {},
   "cell_type": "code",
   "source": [
    "agemodel = Sequential()\n",
    "agemodel.add(Conv2D(32, (3, 3), activation='relu', input_shape=(200, 200, 3)))\n",
    "agemodel.add(MaxPooling2D((2, 2)))\n",
    "agemodel.add(Conv2D(64, (3, 3), activation='relu'))\n",
    "agemodel.add(MaxPooling2D((2, 2)))\n",
    "agemodel.add(Conv2D(128, (3, 3), activation='relu'))\n",
    "agemodel.add(MaxPooling2D((2, 2)))\n",
    "agemodel.add(Flatten())\n",
    "agemodel.add(Dense(64, activation='relu'))\n",
    "agemodel.add(Dropout(0.5))\n",
    "agemodel.add(Dense(1, activation='relu'))\n",
    "\n",
    "agemodel.compile(loss='mean_squared_error',\n",
    "                 optimizer=optimizers.Adam(lr=0.0001))\n",
    "\n",
    "genmodel = Sequential()\n",
    "genmodel.add(Conv2D(32, (3, 3), activation='relu', input_shape=(200, 200, 3)))\n",
    "genmodel.add(MaxPooling2D((2, 2)))\n",
    "genmodel.add(Conv2D(64, (3, 3), activation='relu'))\n",
    "genmodel.add(MaxPooling2D((2, 2)))\n",
    "genmodel.add(Conv2D(128, (3, 3), activation='relu'))\n",
    "genmodel.add(MaxPooling2D((2, 2)))\n",
    "genmodel.add(Flatten())\n",
    "genmodel.add(Dense(64, activation='relu'))\n",
    "genmodel.add(Dropout(0.5))\n",
    "genmodel.add(Dense(1, activation='sigmoid'))\n",
    "\n",
    "genmodel.compile(loss='binary_crossentropy',\n",
    "                 optimizer=optimizers.Adam(lr=0.0001),\n",
    "                 metrics=['accuracy'])"
   ],
   "id": "2925b7cfcf1f4649",
   "outputs": [],
   "execution_count": null
  },
  {
   "metadata": {},
   "cell_type": "markdown",
   "source": "## Traing Model",
   "id": "32446f6578b6fe9d"
  },
  {
   "metadata": {},
   "cell_type": "code",
   "source": [
    "datagen = ImageDataGenerator(\n",
    "    rescale=1. / 255., width_shift_range=0.1, height_shift_range=0.1, horizontal_flip=True)\n",
    "\n",
    "test_datagen = ImageDataGenerator(rescale=1. / 255)\n",
    "\n",
    "train1 = datagen.flow(x_train_age, y_train_age, batch_size=32)\n",
    "\n",
    "test1 = test_datagen.flow(\n",
    "    x_test_age, y_test_age,\n",
    "    batch_size=32)\n",
    "\n",
    "history1 = agemodel.fit(train1, epochs=50, shuffle=True, validation_data=test1)"
   ],
   "id": "6635431019b83217",
   "outputs": [],
   "execution_count": null
  },
  {
   "metadata": {},
   "cell_type": "code",
   "source": [
    "datagen = ImageDataGenerator(\n",
    "      rescale=1./255., width_shift_range = 0.1, height_shift_range = 0.1, horizontal_flip = True)\n",
    "\n",
    "test_datagen = ImageDataGenerator(rescale=1./255)\n",
    "\n",
    "train2 = datagen.flow(x_train_gender, y_train_gender, batch_size=64)\n",
    "\n",
    "test2 = test_datagen.flow(\n",
    "        x_test_gender, y_test_gender,\n",
    "        batch_size=64)\n",
    "\n",
    "history2 = genmodel.fit(train2, epochs=50, shuffle=True, validation_data=test2)"
   ],
   "id": "83f8356f355d6413",
   "outputs": [],
   "execution_count": null
  },
  {
   "metadata": {},
   "cell_type": "markdown",
   "source": "## Evaluate Model",
   "id": "1520a7e272df9cd9"
  },
  {
   "metadata": {},
   "cell_type": "code",
   "source": [
    "def process_and_predict(file):\n",
    "    im = Image.open(file)\n",
    "    width, height = im.size\n",
    "    if width == height:\n",
    "        im = im.resize((200,200), Image.Resampling.LANCZOS)\n",
    "    else:\n",
    "        if width > height:\n",
    "            left = width/2 - height/2\n",
    "            right = width/2 + height/2\n",
    "            top = 0\n",
    "            bottom = height\n",
    "            im = im.crop((left,top,right,bottom))\n",
    "            im = im.resize((200,200), Image.Resampling.LANCZOS)\n",
    "        else:\n",
    "            left = 0\n",
    "            right = width\n",
    "            top = 0\n",
    "            bottom = width\n",
    "            im = im.crop((left,top,right,bottom))\n",
    "            im = im.resize((200,200), Image.Resampling.LANCZOS)\n",
    "\n",
    "    ar = np.asarray(im)\n",
    "    ar = ar.astype('float32')\n",
    "    ar /= 255.0\n",
    "    ar = ar.reshape(-1, 200, 200, 3)\n",
    "\n",
    "    age = agemodel.predict(ar)\n",
    "    gender = np.round(genmodel.predict(ar))\n",
    "    if gender == 0:\n",
    "        gender = 'male'\n",
    "    elif gender == 1:\n",
    "        gender = 'female'\n",
    "\n",
    "    print('Age:', int(age), '\\n Gender:', gender)\n",
    "    return im.resize((300,300), Image.Resampling.LANCZOS)"
   ],
   "id": "9bcaa0e91da36e34",
   "outputs": [],
   "execution_count": null
  },
  {
   "metadata": {},
   "cell_type": "code",
   "source": "process_and_predict('E:\\\\Pycharm\\\\Age-Detection-Using-Neural-Network\\\\DATA\\\\UTKFace\\\\Face_Detection\\\\42_1_1_20170113005434508_face0.jpg')\n",
   "id": "58a3a13991b280d3",
   "outputs": [],
   "execution_count": null
  },
  {
   "metadata": {},
   "cell_type": "code",
   "source": "",
   "id": "76a7b5721de112f1",
   "outputs": [],
   "execution_count": null
  }
 ],
 "metadata": {
  "kernelspec": {
   "display_name": "Python 3",
   "language": "python",
   "name": "python3"
  },
  "language_info": {
   "codemirror_mode": {
    "name": "ipython",
    "version": 2
   },
   "file_extension": ".py",
   "mimetype": "text/x-python",
   "name": "python",
   "nbconvert_exporter": "python",
   "pygments_lexer": "ipython2",
   "version": "2.7.6"
  }
 },
 "nbformat": 4,
 "nbformat_minor": 5
}
