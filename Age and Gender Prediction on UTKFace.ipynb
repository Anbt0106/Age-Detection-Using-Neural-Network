{
 "cells": [
  {
   "metadata": {},
   "cell_type": "markdown",
   "source": "## Import",
   "id": "55f283c2aba82980"
  },
  {
   "cell_type": "code",
   "id": "initial_id",
   "metadata": {
    "collapsed": true
   },
   "source": [
    "import pandas as pd\n",
    "import numpy as np\n",
    "import seaborn as sns\n",
    "import os\n",
    "from PIL import Image, ImageOps\n",
    "from sklearn.model_selection import train_test_split\n",
    "\n",
    "from keras.models import Sequential\n",
    "from keras.layers import Conv2D, MaxPooling2D, Activation, Dropout, Flatten, Dense\n",
    "from keras import optimizers\n",
    "from keras.preprocessing.image import ImageDataGenerator\n",
    "import tensorflow as tf"
   ],
   "outputs": [],
   "execution_count": null
  },
  {
   "metadata": {},
   "cell_type": "markdown",
   "source": "## Load data",
   "id": "226892c4218593a4"
  },
  {
   "metadata": {},
   "cell_type": "code",
   "source": [
    "# images = []\n",
    "# ages = []\n",
    "# genders = []\n",
    "#\n",
    "# for i in os.listdir('E:\\\\Pycharm\\\\Age-Detection-Using-Neural-Network\\\\DATA\\\\UTKFace\\\\Face_Detection\\\\'):\n",
    "#     split = i.split('_')\n",
    "#     ages.append(int(split[0]))\n",
    "#     genders.append(int(split[1]))\n",
    "#     images.append(Image.open('E:\\\\Pycharm\\\\Age-Detection-Using-Neural-Network\\\\DATA\\\\UTKFace\\\\Face_Detection\\\\' + i))\n",
    "\n",
    "\n",
    "from PIL import Image\n",
    "import os\n",
    "\n",
    "images = []\n",
    "ages = []\n",
    "genders = []\n",
    "\n",
    "folder = 'E:\\\\Pycharm\\\\Age-Detection-Using-Neural-Network\\\\DATA\\\\UTKFace\\\\Face_Detection\\\\'\n",
    "files = os.listdir(folder)\n",
    "\n",
    "for filename in files:\n",
    "    split = filename.split('_')\n",
    "    if len(split) >= 2 and split[0].isdigit() and split[1].isdigit():\n",
    "        try:\n",
    "            age = int(split[0])\n",
    "            gender = int(split[1])\n",
    "            path = os.path.join(folder, filename)\n",
    "\n",
    "            with Image.open(path) as img:\n",
    "                # img = img.resize((200, 200), Image.Resampling.LANCZOS)  # Resize nếu cần\n",
    "                images.append(img.copy())  # copy để giữ ảnh trong RAM sau khi file đóng\n",
    "\n",
    "            ages.append(age)\n",
    "            genders.append(gender)\n",
    "        except Exception as e:\n",
    "            print(f\"Bỏ qua ảnh lỗi {filename}: {e}\")\n"
   ],
   "id": "1a3ca6f08732f035",
   "outputs": [],
   "execution_count": null
  },
  {
   "metadata": {},
   "cell_type": "code",
   "source": [
    "images = pd.Series(list(images), name='Images')\n",
    "ages = pd.Series(list(ages), name='Ages')\n",
    "genders = pd.Series(list(genders), name='Genders')\n",
    "\n",
    "df = pd.concat([images, ages, genders], axis=1)\n",
    "df"
   ],
   "id": "2eb303c387d43c41",
   "outputs": [],
   "execution_count": null
  },
  {
   "metadata": {},
   "cell_type": "code",
   "source": [
    "display(df['Images'][0])\n",
    "print(df['Ages'][0], df['Genders'][0])"
   ],
   "id": "5b5e4ead24c59343",
   "outputs": [],
   "execution_count": null
  },
  {
   "metadata": {},
   "cell_type": "code",
   "source": [
    "display(df['Images'][1])\n",
    "print(df['Ages'][1], df['Genders'][1])"
   ],
   "id": "dc04b2d1c79adc87",
   "outputs": [],
   "execution_count": null
  },
  {
   "metadata": {},
   "cell_type": "markdown",
   "source": "## Visualize",
   "id": "acf8d6e9716521f5"
  },
  {
   "metadata": {},
   "cell_type": "code",
   "source": "sns.countplot(x='Ages', data=df)",
   "id": "fce35da0bd282f23",
   "outputs": [],
   "execution_count": null
  },
  {
   "metadata": {},
   "cell_type": "markdown",
   "source": "Too many faces of people between 0 and 4 years old. The model would fit too well to these ages and not enough to the other ages. To resolve this I'm only going to include a third of the images between these ages.",
   "id": "3f6bee834cecce40"
  },
  {
   "metadata": {},
   "cell_type": "code",
   "source": [
    "under4s = []\n",
    "\n",
    "for i in range(len(df)):\n",
    "    if df['Ages'].iloc[i] <= 4:\n",
    "        under4s.append(df.iloc[i])\n",
    "under4s = pd.DataFrame(under4s)\n",
    "under4s = under4s.sample(frac=0.3)\n",
    "\n",
    "df = df[df['Ages'] > 4]\n",
    "\n",
    "df = pd.concat([df, under4s], ignore_index=True)"
   ],
   "id": "150b33268f2183ad",
   "outputs": [],
   "execution_count": null
  },
  {
   "metadata": {},
   "cell_type": "code",
   "source": "sns.countplot(x='Ages', data=df)\n",
   "id": "2ec47398043cf37f",
   "outputs": [],
   "execution_count": null
  },
  {
   "metadata": {},
   "cell_type": "code",
   "source": [
    "x = []\n",
    "y = []\n",
    "\n",
    "for i in range(len(df)):\n",
    "    df['Images'].iloc[i] = df['Images'].iloc[i].resize((200, 200), Image.Resampling.LANCZOS)\n",
    "    ar = np.asarray(df['Images'].iloc[i])\n",
    "    x.append(ar)\n",
    "    agegen = [int(df['Ages'].iloc[i]), int(df['Genders'].iloc[i])]\n",
    "    y.append(agegen)\n",
    "x = np.array(x)"
   ],
   "id": "1eff15714e6f18a4",
   "outputs": [],
   "execution_count": null
  },
  {
   "metadata": {},
   "cell_type": "markdown",
   "source": "## Train and Test",
   "id": "3de79fef46357124"
  },
  {
   "metadata": {},
   "cell_type": "code",
   "source": [
    "y_age = df['Ages']\n",
    "y_gender = df['Genders']\n",
    "\n",
    "# x_train_age, x_test_age, y_train_age, y_test_age = train_test_split(x, y_age, test_size=0.2, stratify=y_age)\n",
    "# x_train_gender, x_test_gender, y_train_gender, y_test_gender = train_test_split(x, y_gender, test_size=0.2,\n",
    "#                                                                                 stratify=y_gender)\n",
    "\n",
    "x_train, x_test, y_age_train, y_age_test, y_gender_train, y_gender_test = train_test_split(\n",
    "    x, y_age, y_gender, test_size=0.2, random_state=42\n",
    ")\n",
    "\n",
    "#\n",
    "#\n",
    "# y_age = df['Ages']\n",
    "# y_gender = df['Genders']\n",
    "#\n",
    "# # Split for age prediction (no stratify)\n",
    "# x_train_age, x_test_age, y_train_age, y_test_age = train_test_split(\n",
    "#     x, y_age, test_size=0.2, random_state=42\n",
    "# )\n",
    "#\n",
    "# # Split for gender prediction (with stratify)\n",
    "# x_train_gender, x_test_gender, y_train_gender, y_test_gender = train_test_split(\n",
    "#     x, y_gender, test_size=0.2, stratify=y_gender, random_state=42\n",
    "# )\n"
   ],
   "id": "d62c25952efb7049",
   "outputs": [],
   "execution_count": null
  },
  {
   "metadata": {},
   "cell_type": "markdown",
   "source": "## Model",
   "id": "5a97901d52d8b25c"
  },
  {
   "metadata": {
    "ExecuteTime": {
     "end_time": "2025-05-21T06:46:39.114560Z",
     "start_time": "2025-05-21T06:46:38.420632Z"
    }
   },
   "cell_type": "code",
   "source": [
    "agemodel = Sequential()\n",
    "agemodel.add(Conv2D(32, (3, 3), activation='relu', input_shape=(200, 200, 3)))\n",
    "agemodel.add(MaxPooling2D((2, 2)))\n",
    "agemodel.add(Conv2D(64, (3, 3), activation='relu'))\n",
    "agemodel.add(MaxPooling2D((2, 2)))\n",
    "agemodel.add(Conv2D(128, (3, 3), activation='relu'))\n",
    "agemodel.add(MaxPooling2D((2, 2)))\n",
    "agemodel.add(Flatten())\n",
    "agemodel.add(Dense(64, activation='relu'))\n",
    "agemodel.add(Dropout(0.5))\n",
    "agemodel.add(Dense(1, activation='relu'))\n",
    "\n",
    "agemodel.compile(loss='mean_squared_error',\n",
    "                 optimizer=optimizers.Adam(lr=0.0001))\n",
    "\n",
    "genmodel = Sequential()\n",
    "genmodel.add(Conv2D(32, (3, 3), activation='relu', input_shape=(200, 200, 3)))\n",
    "genmodel.add(MaxPooling2D((2, 2)))\n",
    "genmodel.add(Conv2D(64, (3, 3), activation='relu'))\n",
    "genmodel.add(MaxPooling2D((2, 2)))\n",
    "genmodel.add(Conv2D(128, (3, 3), activation='relu'))\n",
    "genmodel.add(MaxPooling2D((2, 2)))\n",
    "genmodel.add(Flatten())\n",
    "genmodel.add(Dense(64, activation='relu'))\n",
    "genmodel.add(Dropout(0.5))\n",
    "genmodel.add(Dense(1, activation='sigmoid'))\n",
    "\n",
    "genmodel.compile(loss='binary_crossentropy',\n",
    "                 optimizer=optimizers.Adam(lr=0.0001),\n",
    "                 metrics=['accuracy'])"
   ],
   "id": "2925b7cfcf1f4649",
   "outputs": [
    {
     "name": "stderr",
     "output_type": "stream",
     "text": [
      "C:\\Users\\buian\\anaconda3\\envs\\tf-gpu\\lib\\site-packages\\keras\\optimizers\\optimizer_v2\\adam.py:114: UserWarning: The `lr` argument is deprecated, use `learning_rate` instead.\n",
      "  super().__init__(name, **kwargs)\n"
     ]
    }
   ],
   "execution_count": 55
  },
  {
   "metadata": {},
   "cell_type": "markdown",
   "source": "## Traing Model",
   "id": "32446f6578b6fe9d"
  },
  {
   "metadata": {
    "ExecuteTime": {
     "end_time": "2025-05-21T06:54:30.259859Z",
     "start_time": "2025-05-21T06:54:26.175829Z"
    }
   },
   "cell_type": "code",
   "source": [
    "# datagen = ImageDataGenerator(\n",
    "#     rescale=1. / 255., width_shift_range=0.1, height_shift_range=0.1, horizontal_flip=True)\n",
    "#\n",
    "# test_datagen = ImageDataGenerator(rescale=1. / 255)\n",
    "#\n",
    "# train1 = datagen.flow(x_train, y_age_train, batch_size=32)\n",
    "#\n",
    "# test1 = test_datagen.flow(x_test, y_age_test, batch_size=32)\n",
    "#\n",
    "#\n",
    "# history1 = agemodel.fit(train1, epochs=50, shuffle=True, validation_data=test1)\n",
    "\n",
    "\n",
    "from tensorflow.keras.preprocessing.image import ImageDataGenerator\n",
    "\n",
    "# Khởi tạo ImageDataGenerator cho train và test\n",
    "datagen = ImageDataGenerator(\n",
    "    rescale=1./255,\n",
    "    width_shift_range=0.1,\n",
    "    height_shift_range=0.1,\n",
    "    horizontal_flip=True,\n",
    "    validation_split=0.2  # để tách train/test từ cùng 1 dataframe nếu muốn\n",
    ")\n",
    "\n",
    "test_datagen = ImageDataGenerator(rescale=1./255)\n",
    "\n",
    "# Giả sử bạn có dataframe chứa 2 cột: 'filepath' và 'Ages'\n",
    "# Tách train và validation bằng validation_split nếu dùng cùng dataframe\n",
    "train_generator = datagen.flow_from_dataframe(\n",
    "    dataframe=df,\n",
    "    x_col='filepath',\n",
    "    y_col='Ages',\n",
    "    target_size=(200, 200),\n",
    "    batch_size=32,\n",
    "    class_mode='raw',    # regression thì dùng 'raw' (output là giá trị số)\n",
    "    subset='training',   # sử dụng cho validation_split\n",
    "    shuffle=True,\n",
    "    seed=42\n",
    ")\n",
    "\n",
    "validation_generator = datagen.flow_from_dataframe(\n",
    "    dataframe=df,\n",
    "    x_col='filepath',\n",
    "    y_col='Ages',\n",
    "    target_size=(200, 200),\n",
    "    batch_size=32,\n",
    "    class_mode='raw',\n",
    "    subset='validation',\n",
    "    shuffle=False,\n",
    "    seed=42\n",
    ")\n",
    "\n",
    "# Huấn luyện model\n",
    "history1 = agemodel.fit(\n",
    "    train_generator,\n",
    "    epochs=50,\n",
    "    validation_data=validation_generator\n",
    ")\n"
   ],
   "id": "6635431019b83217",
   "outputs": [
    {
     "ename": "KeyError",
     "evalue": "'filepath'",
     "output_type": "error",
     "traceback": [
      "\u001B[1;31m---------------------------------------------------------------------------\u001B[0m",
      "\u001B[1;31mKeyError\u001B[0m                                  Traceback (most recent call last)",
      "File \u001B[1;32m~\\anaconda3\\envs\\tf-gpu\\lib\\site-packages\\pandas\\core\\indexes\\base.py:3805\u001B[0m, in \u001B[0;36mIndex.get_loc\u001B[1;34m(self, key)\u001B[0m\n\u001B[0;32m   3804\u001B[0m \u001B[38;5;28;01mtry\u001B[39;00m:\n\u001B[1;32m-> 3805\u001B[0m     \u001B[38;5;28;01mreturn\u001B[39;00m \u001B[38;5;28;43mself\u001B[39;49m\u001B[38;5;241;43m.\u001B[39;49m\u001B[43m_engine\u001B[49m\u001B[38;5;241;43m.\u001B[39;49m\u001B[43mget_loc\u001B[49m\u001B[43m(\u001B[49m\u001B[43mcasted_key\u001B[49m\u001B[43m)\u001B[49m\n\u001B[0;32m   3806\u001B[0m \u001B[38;5;28;01mexcept\u001B[39;00m \u001B[38;5;167;01mKeyError\u001B[39;00m \u001B[38;5;28;01mas\u001B[39;00m err:\n",
      "File \u001B[1;32mindex.pyx:167\u001B[0m, in \u001B[0;36mpandas._libs.index.IndexEngine.get_loc\u001B[1;34m()\u001B[0m\n",
      "File \u001B[1;32mindex.pyx:196\u001B[0m, in \u001B[0;36mpandas._libs.index.IndexEngine.get_loc\u001B[1;34m()\u001B[0m\n",
      "File \u001B[1;32mpandas\\\\_libs\\\\hashtable_class_helper.pxi:7081\u001B[0m, in \u001B[0;36mpandas._libs.hashtable.PyObjectHashTable.get_item\u001B[1;34m()\u001B[0m\n",
      "File \u001B[1;32mpandas\\\\_libs\\\\hashtable_class_helper.pxi:7089\u001B[0m, in \u001B[0;36mpandas._libs.hashtable.PyObjectHashTable.get_item\u001B[1;34m()\u001B[0m\n",
      "\u001B[1;31mKeyError\u001B[0m: 'filepath'",
      "\nThe above exception was the direct cause of the following exception:\n",
      "\u001B[1;31mKeyError\u001B[0m                                  Traceback (most recent call last)",
      "Cell \u001B[1;32mIn[57], line 29\u001B[0m\n\u001B[0;32m     25\u001B[0m test_datagen \u001B[38;5;241m=\u001B[39m ImageDataGenerator(rescale\u001B[38;5;241m=\u001B[39m\u001B[38;5;241m1.\u001B[39m\u001B[38;5;241m/\u001B[39m\u001B[38;5;241m255\u001B[39m)\n\u001B[0;32m     27\u001B[0m \u001B[38;5;66;03m# Giả sử bạn có dataframe chứa 2 cột: 'filepath' và 'Ages'\u001B[39;00m\n\u001B[0;32m     28\u001B[0m \u001B[38;5;66;03m# Tách train và validation bằng validation_split nếu dùng cùng dataframe\u001B[39;00m\n\u001B[1;32m---> 29\u001B[0m train_generator \u001B[38;5;241m=\u001B[39m \u001B[43mdatagen\u001B[49m\u001B[38;5;241;43m.\u001B[39;49m\u001B[43mflow_from_dataframe\u001B[49m\u001B[43m(\u001B[49m\n\u001B[0;32m     30\u001B[0m \u001B[43m    \u001B[49m\u001B[43mdataframe\u001B[49m\u001B[38;5;241;43m=\u001B[39;49m\u001B[43mdf\u001B[49m\u001B[43m,\u001B[49m\n\u001B[0;32m     31\u001B[0m \u001B[43m    \u001B[49m\u001B[43mx_col\u001B[49m\u001B[38;5;241;43m=\u001B[39;49m\u001B[38;5;124;43m'\u001B[39;49m\u001B[38;5;124;43mfilepath\u001B[39;49m\u001B[38;5;124;43m'\u001B[39;49m\u001B[43m,\u001B[49m\n\u001B[0;32m     32\u001B[0m \u001B[43m    \u001B[49m\u001B[43my_col\u001B[49m\u001B[38;5;241;43m=\u001B[39;49m\u001B[38;5;124;43m'\u001B[39;49m\u001B[38;5;124;43mAges\u001B[39;49m\u001B[38;5;124;43m'\u001B[39;49m\u001B[43m,\u001B[49m\n\u001B[0;32m     33\u001B[0m \u001B[43m    \u001B[49m\u001B[43mtarget_size\u001B[49m\u001B[38;5;241;43m=\u001B[39;49m\u001B[43m(\u001B[49m\u001B[38;5;241;43m200\u001B[39;49m\u001B[43m,\u001B[49m\u001B[43m \u001B[49m\u001B[38;5;241;43m200\u001B[39;49m\u001B[43m)\u001B[49m\u001B[43m,\u001B[49m\n\u001B[0;32m     34\u001B[0m \u001B[43m    \u001B[49m\u001B[43mbatch_size\u001B[49m\u001B[38;5;241;43m=\u001B[39;49m\u001B[38;5;241;43m32\u001B[39;49m\u001B[43m,\u001B[49m\n\u001B[0;32m     35\u001B[0m \u001B[43m    \u001B[49m\u001B[43mclass_mode\u001B[49m\u001B[38;5;241;43m=\u001B[39;49m\u001B[38;5;124;43m'\u001B[39;49m\u001B[38;5;124;43mraw\u001B[39;49m\u001B[38;5;124;43m'\u001B[39;49m\u001B[43m,\u001B[49m\u001B[43m    \u001B[49m\u001B[38;5;66;43;03m# regression thì dùng 'raw' (output là giá trị số)\u001B[39;49;00m\n\u001B[0;32m     36\u001B[0m \u001B[43m    \u001B[49m\u001B[43msubset\u001B[49m\u001B[38;5;241;43m=\u001B[39;49m\u001B[38;5;124;43m'\u001B[39;49m\u001B[38;5;124;43mtraining\u001B[39;49m\u001B[38;5;124;43m'\u001B[39;49m\u001B[43m,\u001B[49m\u001B[43m   \u001B[49m\u001B[38;5;66;43;03m# sử dụng cho validation_split\u001B[39;49;00m\n\u001B[0;32m     37\u001B[0m \u001B[43m    \u001B[49m\u001B[43mshuffle\u001B[49m\u001B[38;5;241;43m=\u001B[39;49m\u001B[38;5;28;43;01mTrue\u001B[39;49;00m\u001B[43m,\u001B[49m\n\u001B[0;32m     38\u001B[0m \u001B[43m    \u001B[49m\u001B[43mseed\u001B[49m\u001B[38;5;241;43m=\u001B[39;49m\u001B[38;5;241;43m42\u001B[39;49m\n\u001B[0;32m     39\u001B[0m \u001B[43m)\u001B[49m\n\u001B[0;32m     41\u001B[0m validation_generator \u001B[38;5;241m=\u001B[39m datagen\u001B[38;5;241m.\u001B[39mflow_from_dataframe(\n\u001B[0;32m     42\u001B[0m     dataframe\u001B[38;5;241m=\u001B[39mdf,\n\u001B[0;32m     43\u001B[0m     x_col\u001B[38;5;241m=\u001B[39m\u001B[38;5;124m'\u001B[39m\u001B[38;5;124mfilepath\u001B[39m\u001B[38;5;124m'\u001B[39m,\n\u001B[1;32m   (...)\u001B[0m\n\u001B[0;32m     50\u001B[0m     seed\u001B[38;5;241m=\u001B[39m\u001B[38;5;241m42\u001B[39m\n\u001B[0;32m     51\u001B[0m )\n\u001B[0;32m     53\u001B[0m \u001B[38;5;66;03m# Huấn luyện model\u001B[39;00m\n",
      "File \u001B[1;32m~\\anaconda3\\envs\\tf-gpu\\lib\\site-packages\\keras\\preprocessing\\image.py:1808\u001B[0m, in \u001B[0;36mImageDataGenerator.flow_from_dataframe\u001B[1;34m(self, dataframe, directory, x_col, y_col, weight_col, target_size, color_mode, classes, class_mode, batch_size, shuffle, seed, save_to_dir, save_prefix, save_format, subset, interpolation, validate_filenames, **kwargs)\u001B[0m\n\u001B[0;32m   1801\u001B[0m \u001B[38;5;28;01mif\u001B[39;00m \u001B[38;5;124m\"\u001B[39m\u001B[38;5;124mdrop_duplicates\u001B[39m\u001B[38;5;124m\"\u001B[39m \u001B[38;5;129;01min\u001B[39;00m kwargs:\n\u001B[0;32m   1802\u001B[0m     warnings\u001B[38;5;241m.\u001B[39mwarn(\n\u001B[0;32m   1803\u001B[0m         \u001B[38;5;124m\"\u001B[39m\u001B[38;5;124mdrop_duplicates is deprecated, you can drop duplicates \u001B[39m\u001B[38;5;124m\"\u001B[39m\n\u001B[0;32m   1804\u001B[0m         \u001B[38;5;124m\"\u001B[39m\u001B[38;5;124mby using the pandas.DataFrame.drop_duplicates method.\u001B[39m\u001B[38;5;124m\"\u001B[39m,\n\u001B[0;32m   1805\u001B[0m         \u001B[38;5;167;01mDeprecationWarning\u001B[39;00m,\n\u001B[0;32m   1806\u001B[0m     )\n\u001B[1;32m-> 1808\u001B[0m \u001B[38;5;28;01mreturn\u001B[39;00m \u001B[43mDataFrameIterator\u001B[49m\u001B[43m(\u001B[49m\n\u001B[0;32m   1809\u001B[0m \u001B[43m    \u001B[49m\u001B[43mdataframe\u001B[49m\u001B[43m,\u001B[49m\n\u001B[0;32m   1810\u001B[0m \u001B[43m    \u001B[49m\u001B[43mdirectory\u001B[49m\u001B[43m,\u001B[49m\n\u001B[0;32m   1811\u001B[0m \u001B[43m    \u001B[49m\u001B[38;5;28;43mself\u001B[39;49m\u001B[43m,\u001B[49m\n\u001B[0;32m   1812\u001B[0m \u001B[43m    \u001B[49m\u001B[43mx_col\u001B[49m\u001B[38;5;241;43m=\u001B[39;49m\u001B[43mx_col\u001B[49m\u001B[43m,\u001B[49m\n\u001B[0;32m   1813\u001B[0m \u001B[43m    \u001B[49m\u001B[43my_col\u001B[49m\u001B[38;5;241;43m=\u001B[39;49m\u001B[43my_col\u001B[49m\u001B[43m,\u001B[49m\n\u001B[0;32m   1814\u001B[0m \u001B[43m    \u001B[49m\u001B[43mweight_col\u001B[49m\u001B[38;5;241;43m=\u001B[39;49m\u001B[43mweight_col\u001B[49m\u001B[43m,\u001B[49m\n\u001B[0;32m   1815\u001B[0m \u001B[43m    \u001B[49m\u001B[43mtarget_size\u001B[49m\u001B[38;5;241;43m=\u001B[39;49m\u001B[43mtarget_size\u001B[49m\u001B[43m,\u001B[49m\n\u001B[0;32m   1816\u001B[0m \u001B[43m    \u001B[49m\u001B[43mcolor_mode\u001B[49m\u001B[38;5;241;43m=\u001B[39;49m\u001B[43mcolor_mode\u001B[49m\u001B[43m,\u001B[49m\n\u001B[0;32m   1817\u001B[0m \u001B[43m    \u001B[49m\u001B[43mclasses\u001B[49m\u001B[38;5;241;43m=\u001B[39;49m\u001B[43mclasses\u001B[49m\u001B[43m,\u001B[49m\n\u001B[0;32m   1818\u001B[0m \u001B[43m    \u001B[49m\u001B[43mclass_mode\u001B[49m\u001B[38;5;241;43m=\u001B[39;49m\u001B[43mclass_mode\u001B[49m\u001B[43m,\u001B[49m\n\u001B[0;32m   1819\u001B[0m \u001B[43m    \u001B[49m\u001B[43mdata_format\u001B[49m\u001B[38;5;241;43m=\u001B[39;49m\u001B[38;5;28;43mself\u001B[39;49m\u001B[38;5;241;43m.\u001B[39;49m\u001B[43mdata_format\u001B[49m\u001B[43m,\u001B[49m\n\u001B[0;32m   1820\u001B[0m \u001B[43m    \u001B[49m\u001B[43mbatch_size\u001B[49m\u001B[38;5;241;43m=\u001B[39;49m\u001B[43mbatch_size\u001B[49m\u001B[43m,\u001B[49m\n\u001B[0;32m   1821\u001B[0m \u001B[43m    \u001B[49m\u001B[43mshuffle\u001B[49m\u001B[38;5;241;43m=\u001B[39;49m\u001B[43mshuffle\u001B[49m\u001B[43m,\u001B[49m\n\u001B[0;32m   1822\u001B[0m \u001B[43m    \u001B[49m\u001B[43mseed\u001B[49m\u001B[38;5;241;43m=\u001B[39;49m\u001B[43mseed\u001B[49m\u001B[43m,\u001B[49m\n\u001B[0;32m   1823\u001B[0m \u001B[43m    \u001B[49m\u001B[43msave_to_dir\u001B[49m\u001B[38;5;241;43m=\u001B[39;49m\u001B[43msave_to_dir\u001B[49m\u001B[43m,\u001B[49m\n\u001B[0;32m   1824\u001B[0m \u001B[43m    \u001B[49m\u001B[43msave_prefix\u001B[49m\u001B[38;5;241;43m=\u001B[39;49m\u001B[43msave_prefix\u001B[49m\u001B[43m,\u001B[49m\n\u001B[0;32m   1825\u001B[0m \u001B[43m    \u001B[49m\u001B[43msave_format\u001B[49m\u001B[38;5;241;43m=\u001B[39;49m\u001B[43msave_format\u001B[49m\u001B[43m,\u001B[49m\n\u001B[0;32m   1826\u001B[0m \u001B[43m    \u001B[49m\u001B[43msubset\u001B[49m\u001B[38;5;241;43m=\u001B[39;49m\u001B[43msubset\u001B[49m\u001B[43m,\u001B[49m\n\u001B[0;32m   1827\u001B[0m \u001B[43m    \u001B[49m\u001B[43minterpolation\u001B[49m\u001B[38;5;241;43m=\u001B[39;49m\u001B[43minterpolation\u001B[49m\u001B[43m,\u001B[49m\n\u001B[0;32m   1828\u001B[0m \u001B[43m    \u001B[49m\u001B[43mvalidate_filenames\u001B[49m\u001B[38;5;241;43m=\u001B[39;49m\u001B[43mvalidate_filenames\u001B[49m\u001B[43m,\u001B[49m\n\u001B[0;32m   1829\u001B[0m \u001B[43m    \u001B[49m\u001B[43mdtype\u001B[49m\u001B[38;5;241;43m=\u001B[39;49m\u001B[38;5;28;43mself\u001B[39;49m\u001B[38;5;241;43m.\u001B[39;49m\u001B[43mdtype\u001B[49m\u001B[43m,\u001B[49m\n\u001B[0;32m   1830\u001B[0m \u001B[43m\u001B[49m\u001B[43m)\u001B[49m\n",
      "File \u001B[1;32m~\\anaconda3\\envs\\tf-gpu\\lib\\site-packages\\keras\\preprocessing\\image.py:968\u001B[0m, in \u001B[0;36mDataFrameIterator.__init__\u001B[1;34m(self, dataframe, directory, image_data_generator, x_col, y_col, weight_col, target_size, color_mode, classes, class_mode, batch_size, shuffle, seed, data_format, save_to_dir, save_prefix, save_format, subset, interpolation, keep_aspect_ratio, dtype, validate_filenames)\u001B[0m\n\u001B[0;32m    966\u001B[0m \u001B[38;5;28mself\u001B[39m\u001B[38;5;241m.\u001B[39mdtype \u001B[38;5;241m=\u001B[39m dtype\n\u001B[0;32m    967\u001B[0m \u001B[38;5;66;03m# check that inputs match the required class_mode\u001B[39;00m\n\u001B[1;32m--> 968\u001B[0m \u001B[38;5;28;43mself\u001B[39;49m\u001B[38;5;241;43m.\u001B[39;49m\u001B[43m_check_params\u001B[49m\u001B[43m(\u001B[49m\u001B[43mdf\u001B[49m\u001B[43m,\u001B[49m\u001B[43m \u001B[49m\u001B[43mx_col\u001B[49m\u001B[43m,\u001B[49m\u001B[43m \u001B[49m\u001B[43my_col\u001B[49m\u001B[43m,\u001B[49m\u001B[43m \u001B[49m\u001B[43mweight_col\u001B[49m\u001B[43m,\u001B[49m\u001B[43m \u001B[49m\u001B[43mclasses\u001B[49m\u001B[43m)\u001B[49m\n\u001B[0;32m    969\u001B[0m \u001B[38;5;28;01mif\u001B[39;00m (\n\u001B[0;32m    970\u001B[0m     validate_filenames\n\u001B[0;32m    971\u001B[0m ):  \u001B[38;5;66;03m# check which image files are valid and keep them\u001B[39;00m\n\u001B[0;32m    972\u001B[0m     df \u001B[38;5;241m=\u001B[39m \u001B[38;5;28mself\u001B[39m\u001B[38;5;241m.\u001B[39m_filter_valid_filepaths(df, x_col)\n",
      "File \u001B[1;32m~\\anaconda3\\envs\\tf-gpu\\lib\\site-packages\\keras\\preprocessing\\image.py:1029\u001B[0m, in \u001B[0;36mDataFrameIterator._check_params\u001B[1;34m(self, df, x_col, y_col, weight_col, classes)\u001B[0m\n\u001B[0;32m   1023\u001B[0m     \u001B[38;5;28;01mraise\u001B[39;00m \u001B[38;5;167;01mTypeError\u001B[39;00m(\n\u001B[0;32m   1024\u001B[0m         \u001B[38;5;124m'\u001B[39m\u001B[38;5;124mIf class_mode=\u001B[39m\u001B[38;5;124m\"\u001B[39m\u001B[38;5;132;01m{}\u001B[39;00m\u001B[38;5;124m\"\u001B[39m\u001B[38;5;124m, y_col must be a list. Received \u001B[39m\u001B[38;5;132;01m{}\u001B[39;00m\u001B[38;5;124m.\u001B[39m\u001B[38;5;124m'\u001B[39m\u001B[38;5;241m.\u001B[39mformat(\n\u001B[0;32m   1025\u001B[0m             \u001B[38;5;28mself\u001B[39m\u001B[38;5;241m.\u001B[39mclass_mode, \u001B[38;5;28mtype\u001B[39m(y_col)\u001B[38;5;241m.\u001B[39m\u001B[38;5;18m__name__\u001B[39m\n\u001B[0;32m   1026\u001B[0m         )\n\u001B[0;32m   1027\u001B[0m     )\n\u001B[0;32m   1028\u001B[0m \u001B[38;5;66;03m# check that filenames/filepaths column values are all strings\u001B[39;00m\n\u001B[1;32m-> 1029\u001B[0m \u001B[38;5;28;01mif\u001B[39;00m \u001B[38;5;129;01mnot\u001B[39;00m \u001B[38;5;28mall\u001B[39m(\u001B[43mdf\u001B[49m\u001B[43m[\u001B[49m\u001B[43mx_col\u001B[49m\u001B[43m]\u001B[49m\u001B[38;5;241m.\u001B[39mapply(\u001B[38;5;28;01mlambda\u001B[39;00m x: \u001B[38;5;28misinstance\u001B[39m(x, \u001B[38;5;28mstr\u001B[39m))):\n\u001B[0;32m   1030\u001B[0m     \u001B[38;5;28;01mraise\u001B[39;00m \u001B[38;5;167;01mTypeError\u001B[39;00m(\n\u001B[0;32m   1031\u001B[0m         \u001B[38;5;124m\"\u001B[39m\u001B[38;5;124mAll values in column x_col=\u001B[39m\u001B[38;5;132;01m{}\u001B[39;00m\u001B[38;5;124m must be strings.\u001B[39m\u001B[38;5;124m\"\u001B[39m\u001B[38;5;241m.\u001B[39mformat(x_col)\n\u001B[0;32m   1032\u001B[0m     )\n\u001B[0;32m   1033\u001B[0m \u001B[38;5;66;03m# check labels are string if class_mode is binary or sparse\u001B[39;00m\n",
      "File \u001B[1;32m~\\anaconda3\\envs\\tf-gpu\\lib\\site-packages\\pandas\\core\\frame.py:4102\u001B[0m, in \u001B[0;36mDataFrame.__getitem__\u001B[1;34m(self, key)\u001B[0m\n\u001B[0;32m   4100\u001B[0m \u001B[38;5;28;01mif\u001B[39;00m \u001B[38;5;28mself\u001B[39m\u001B[38;5;241m.\u001B[39mcolumns\u001B[38;5;241m.\u001B[39mnlevels \u001B[38;5;241m>\u001B[39m \u001B[38;5;241m1\u001B[39m:\n\u001B[0;32m   4101\u001B[0m     \u001B[38;5;28;01mreturn\u001B[39;00m \u001B[38;5;28mself\u001B[39m\u001B[38;5;241m.\u001B[39m_getitem_multilevel(key)\n\u001B[1;32m-> 4102\u001B[0m indexer \u001B[38;5;241m=\u001B[39m \u001B[38;5;28;43mself\u001B[39;49m\u001B[38;5;241;43m.\u001B[39;49m\u001B[43mcolumns\u001B[49m\u001B[38;5;241;43m.\u001B[39;49m\u001B[43mget_loc\u001B[49m\u001B[43m(\u001B[49m\u001B[43mkey\u001B[49m\u001B[43m)\u001B[49m\n\u001B[0;32m   4103\u001B[0m \u001B[38;5;28;01mif\u001B[39;00m is_integer(indexer):\n\u001B[0;32m   4104\u001B[0m     indexer \u001B[38;5;241m=\u001B[39m [indexer]\n",
      "File \u001B[1;32m~\\anaconda3\\envs\\tf-gpu\\lib\\site-packages\\pandas\\core\\indexes\\base.py:3812\u001B[0m, in \u001B[0;36mIndex.get_loc\u001B[1;34m(self, key)\u001B[0m\n\u001B[0;32m   3807\u001B[0m     \u001B[38;5;28;01mif\u001B[39;00m \u001B[38;5;28misinstance\u001B[39m(casted_key, \u001B[38;5;28mslice\u001B[39m) \u001B[38;5;129;01mor\u001B[39;00m (\n\u001B[0;32m   3808\u001B[0m         \u001B[38;5;28misinstance\u001B[39m(casted_key, abc\u001B[38;5;241m.\u001B[39mIterable)\n\u001B[0;32m   3809\u001B[0m         \u001B[38;5;129;01mand\u001B[39;00m \u001B[38;5;28many\u001B[39m(\u001B[38;5;28misinstance\u001B[39m(x, \u001B[38;5;28mslice\u001B[39m) \u001B[38;5;28;01mfor\u001B[39;00m x \u001B[38;5;129;01min\u001B[39;00m casted_key)\n\u001B[0;32m   3810\u001B[0m     ):\n\u001B[0;32m   3811\u001B[0m         \u001B[38;5;28;01mraise\u001B[39;00m InvalidIndexError(key)\n\u001B[1;32m-> 3812\u001B[0m     \u001B[38;5;28;01mraise\u001B[39;00m \u001B[38;5;167;01mKeyError\u001B[39;00m(key) \u001B[38;5;28;01mfrom\u001B[39;00m\u001B[38;5;250m \u001B[39m\u001B[38;5;21;01merr\u001B[39;00m\n\u001B[0;32m   3813\u001B[0m \u001B[38;5;28;01mexcept\u001B[39;00m \u001B[38;5;167;01mTypeError\u001B[39;00m:\n\u001B[0;32m   3814\u001B[0m     \u001B[38;5;66;03m# If we have a listlike key, _check_indexing_error will raise\u001B[39;00m\n\u001B[0;32m   3815\u001B[0m     \u001B[38;5;66;03m#  InvalidIndexError. Otherwise we fall through and re-raise\u001B[39;00m\n\u001B[0;32m   3816\u001B[0m     \u001B[38;5;66;03m#  the TypeError.\u001B[39;00m\n\u001B[0;32m   3817\u001B[0m     \u001B[38;5;28mself\u001B[39m\u001B[38;5;241m.\u001B[39m_check_indexing_error(key)\n",
      "\u001B[1;31mKeyError\u001B[0m: 'filepath'"
     ]
    }
   ],
   "execution_count": 57
  },
  {
   "metadata": {},
   "cell_type": "code",
   "source": [
    "datagen = ImageDataGenerator(\n",
    "      rescale=1./255., width_shift_range = 0.1, height_shift_range = 0.1, horizontal_flip = True)\n",
    "\n",
    "test_datagen = ImageDataGenerator(rescale=1./255)\n",
    "\n",
    "train2 = datagen.flow(x_train_gender, y_train_gender, batch_size=64)\n",
    "\n",
    "test2 = test_datagen.flow(\n",
    "        x_test_gender, y_test_gender,\n",
    "        batch_size=64)\n",
    "\n",
    "history2 = genmodel.fit(train2, epochs=50, shuffle=True, validation_data=test2)"
   ],
   "id": "83f8356f355d6413",
   "outputs": [],
   "execution_count": null
  },
  {
   "metadata": {},
   "cell_type": "markdown",
   "source": "## Evaluate Model",
   "id": "1520a7e272df9cd9"
  },
  {
   "metadata": {},
   "cell_type": "code",
   "source": [
    "def process_and_predict(file):\n",
    "    im = Image.open(file)\n",
    "    width, height = im.size\n",
    "    if width == height:\n",
    "        im = im.resize((200,200), Image.Resampling.LANCZOS)\n",
    "    else:\n",
    "        if width > height:\n",
    "            left = width/2 - height/2\n",
    "            right = width/2 + height/2\n",
    "            top = 0\n",
    "            bottom = height\n",
    "            im = im.crop((left,top,right,bottom))\n",
    "            im = im.resize((200,200), Image.Resampling.LANCZOS)\n",
    "        else:\n",
    "            left = 0\n",
    "            right = width\n",
    "            top = 0\n",
    "            bottom = width\n",
    "            im = im.crop((left,top,right,bottom))\n",
    "            im = im.resize((200,200), Image.Resampling.LANCZOS)\n",
    "\n",
    "    ar = np.asarray(im)\n",
    "    ar = ar.astype('float32')\n",
    "    ar /= 255.0\n",
    "    ar = ar.reshape(-1, 200, 200, 3)\n",
    "\n",
    "    age = agemodel.predict(ar)\n",
    "    gender = np.round(genmodel.predict(ar))\n",
    "    if gender == 0:\n",
    "        gender = 'male'\n",
    "    elif gender == 1:\n",
    "        gender = 'female'\n",
    "\n",
    "    print('Age:', int(age), '\\n Gender:', gender)\n",
    "    return im.resize((300,300), Image.Resampling.LANCZOS)"
   ],
   "id": "9bcaa0e91da36e34",
   "outputs": [],
   "execution_count": null
  },
  {
   "metadata": {},
   "cell_type": "code",
   "source": "process_and_predict('E:\\\\Pycharm\\\\Age-Detection-Using-Neural-Network\\\\DATA\\\\UTKFace\\\\Face_Detection\\\\42_1_1_20170113005434508_face0.jpg')\n",
   "id": "58a3a13991b280d3",
   "outputs": [],
   "execution_count": null
  },
  {
   "metadata": {},
   "cell_type": "code",
   "source": "",
   "id": "76a7b5721de112f1",
   "outputs": [],
   "execution_count": null
  }
 ],
 "metadata": {
  "kernelspec": {
   "display_name": "Python 3",
   "language": "python",
   "name": "python3"
  },
  "language_info": {
   "codemirror_mode": {
    "name": "ipython",
    "version": 2
   },
   "file_extension": ".py",
   "mimetype": "text/x-python",
   "name": "python",
   "nbconvert_exporter": "python",
   "pygments_lexer": "ipython2",
   "version": "2.7.6"
  }
 },
 "nbformat": 4,
 "nbformat_minor": 5
}
