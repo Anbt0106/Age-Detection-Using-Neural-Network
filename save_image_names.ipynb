{
 "cells": [
  {
   "metadata": {
    "ExecuteTime": {
     "end_time": "2025-04-22T16:45:05.585385Z",
     "start_time": "2025-04-22T16:45:05.516203Z"
    }
   },
   "cell_type": "code",
   "source": [
    "import os\n",
    "\n",
    "folder_path = 'E:\\\\Pycharm\\\\Age-Detection-Using-Neural-Network\\\\DATA\\\\UTKFace\\\\part1\\\\part1'\n",
    "output_file = 'part1.txt'\n",
    "\n",
    "image_names = [f for f in os.listdir(folder_path) if f.lower().endswith('.jpg')]\n",
    "\n",
    "with open(output_file, 'w') as f:\n",
    "    for name in image_names:\n",
    "        f.write(name + '\\n')\n",
    "\n",
    "print(f\"Đã lưu {len(image_names)} tên ảnh vào '{output_file}'.\")\n"
   ],
   "id": "b7ae9e769211b2fa",
   "outputs": [
    {
     "name": "stdout",
     "output_type": "stream",
     "text": [
      "Đã lưu 10137 tên ảnh vào 'part1.txt'.\n"
     ]
    }
   ],
   "execution_count": 3
  },
  {
   "metadata": {
    "ExecuteTime": {
     "end_time": "2025-04-22T16:45:40.515228Z",
     "start_time": "2025-04-22T16:45:40.483051Z"
    }
   },
   "cell_type": "code",
   "source": [
    "import os\n",
    "\n",
    "folder_path = 'E:\\\\Pycharm\\\\Age-Detection-Using-Neural-Network\\\\DATA\\\\UTKFace\\\\part2\\\\part2'\n",
    "output_file = 'part2.txt'\n",
    "\n",
    "image_names = [f for f in os.listdir(folder_path) if f.lower().endswith('.jpg')]\n",
    "\n",
    "with open(output_file, 'w') as f:\n",
    "    for name in image_names:\n",
    "        f.write(name + '\\n')\n",
    "\n",
    "print(f\"Đã lưu {len(image_names)} tên ảnh vào '{output_file}'.\")\n"
   ],
   "id": "55f329ede67f5ed9",
   "outputs": [
    {
     "name": "stdout",
     "output_type": "stream",
     "text": [
      "Đã lưu 10719 tên ảnh vào 'part2.txt'.\n"
     ]
    }
   ],
   "execution_count": 4
  },
  {
   "metadata": {
    "ExecuteTime": {
     "end_time": "2025-04-22T16:45:53.937207Z",
     "start_time": "2025-04-22T16:45:53.910782Z"
    }
   },
   "cell_type": "code",
   "source": [
    "import os\n",
    "\n",
    "folder_path = 'E:\\\\Pycharm\\\\Age-Detection-Using-Neural-Network\\\\DATA\\\\UTKFace\\\\part3\\\\part3'\n",
    "output_file = 'part3.txt'\n",
    "\n",
    "image_names = [f for f in os.listdir(folder_path) if f.lower().endswith('.jpg')]\n",
    "\n",
    "with open(output_file, 'w') as f:\n",
    "    for name in image_names:\n",
    "        f.write(name + '\\n')\n",
    "\n",
    "print(f\"Đã lưu {len(image_names)} tên ảnh vào '{output_file}'.\")\n"
   ],
   "id": "db50d8557c3b0196",
   "outputs": [
    {
     "name": "stdout",
     "output_type": "stream",
     "text": [
      "Đã lưu 3250 tên ảnh vào 'part3.txt'.\n"
     ]
    }
   ],
   "execution_count": 5
  }
 ],
 "metadata": {
  "kernelspec": {
   "display_name": "Python 3",
   "language": "python",
   "name": "python3"
  },
  "language_info": {
   "codemirror_mode": {
    "name": "ipython",
    "version": 2
   },
   "file_extension": ".py",
   "mimetype": "text/x-python",
   "name": "python",
   "nbconvert_exporter": "python",
   "pygments_lexer": "ipython2",
   "version": "2.7.6"
  }
 },
 "nbformat": 4,
 "nbformat_minor": 5
}
