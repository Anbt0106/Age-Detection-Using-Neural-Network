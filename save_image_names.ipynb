{
 "cells": [
  {
   "metadata": {
    "ExecuteTime": {
     "end_time": "2025-05-01T14:09:08.621844Z",
     "start_time": "2025-05-01T14:09:08.571223Z"
    }
   },
   "cell_type": "code",
   "source": [
    "import os\n",
    "\n",
    "path = 'E:\\\\Pycharm\\\\Age-Detection-Using-Neural-Network\\\\'\n",
    "folder_path = path + 'DATA\\\\UTKFace\\\\part1\\\\part1'\n",
    "output_file = 'DATA/UTKFace/part1.txt'\n",
    "\n",
    "image_names = [f for f in os.listdir(folder_path) if f.lower().endswith('.jpg')]\n",
    "\n",
    "with open(output_file, 'w') as f:\n",
    "    for name in image_names:\n",
    "        full_path = os.path.join('DATA\\\\UTKFace\\\\part1\\\\part1', name)\n",
    "        f.write(full_path + '\\n')\n",
    "\n",
    "print(f\"Đã lưu {len(image_names)} tên ảnh vào '{output_file}'.\")\n"
   ],
   "id": "b7ae9e769211b2fa",
   "outputs": [
    {
     "name": "stdout",
     "output_type": "stream",
     "text": [
      "Đã lưu 10137 tên ảnh vào 'DATA/UTKFace/part1.txt'.\n"
     ]
    }
   ],
   "execution_count": 8
  },
  {
   "metadata": {
    "ExecuteTime": {
     "end_time": "2025-05-01T14:09:08.717240Z",
     "start_time": "2025-05-01T14:09:08.655587Z"
    }
   },
   "cell_type": "code",
   "source": [
    "import os\n",
    "\n",
    "path = 'E:\\\\Pycharm\\\\Age-Detection-Using-Neural-Network\\\\'\n",
    "folder_path = path + 'DATA\\\\UTKFace\\\\part2\\\\part2'\n",
    "output_file = 'DATA/UTKFace/part2.txt'\n",
    "\n",
    "image_names = [f for f in os.listdir(folder_path) if f.lower().endswith('.jpg')]\n",
    "\n",
    "with open(output_file, 'w') as f:\n",
    "    for name in image_names:\n",
    "        full_path = os.path.join('DATA\\\\UTKFace\\\\part2\\\\part2', name)\n",
    "        f.write(full_path + '\\n')\n",
    "\n",
    "print(f\"Đã lưu {len(image_names)} tên ảnh vào '{output_file}'.\")\n"
   ],
   "id": "55f329ede67f5ed9",
   "outputs": [
    {
     "name": "stdout",
     "output_type": "stream",
     "text": [
      "Đã lưu 10719 tên ảnh vào 'DATA/UTKFace/part2.txt'.\n"
     ]
    }
   ],
   "execution_count": 9
  },
  {
   "metadata": {
    "ExecuteTime": {
     "end_time": "2025-05-01T14:09:08.778881Z",
     "start_time": "2025-05-01T14:09:08.749290Z"
    }
   },
   "cell_type": "code",
   "source": [
    "import os\n",
    "\n",
    "path = 'E:\\\\Pycharm\\\\Age-Detection-Using-Neural-Network\\\\'\n",
    "folder_path = path + '\\\\DATA\\\\UTKFace\\\\part3\\\\part3'\n",
    "output_file = 'DATA/UTKFace/part3.txt'\n",
    "\n",
    "image_names = [f for f in os.listdir(folder_path) if f.lower().endswith('.jpg')]\n",
    "\n",
    "with open(output_file, 'w') as f:\n",
    "    for name in image_names:\n",
    "        full_path = os.path.join('DATA\\\\UTKFace\\\\part3\\\\part3', name)\n",
    "        f.write(full_path + '\\n')\n",
    "\n",
    "print(f\"Đã lưu {len(image_names)} tên ảnh vào '{output_file}'.\")\n"
   ],
   "id": "db50d8557c3b0196",
   "outputs": [
    {
     "name": "stdout",
     "output_type": "stream",
     "text": [
      "Đã lưu 3250 tên ảnh vào 'DATA/UTKFace/part3.txt'.\n"
     ]
    }
   ],
   "execution_count": 10
  },
  {
   "metadata": {
    "ExecuteTime": {
     "end_time": "2025-05-01T14:09:08.826547Z",
     "start_time": "2025-05-01T14:09:08.795396Z"
    }
   },
   "cell_type": "code",
   "source": [
    "import random\n",
    "import os\n",
    "\n",
    "# Đường dẫn tới các file và thư mục ảnh\n",
    "part1_file = 'DATA/UTKFace/part1.txt'\n",
    "part2_file = 'DATA/UTKFace/part2.txt'\n",
    "part3_file = 'DATA/UTKFace/part3.txt'\n",
    "\n",
    "output_file = 'UTKFace_small/UTKFace_small.txt'\n",
    "\n",
    "num_samples_part1 = 1000\n",
    "num_samples_part2 = 1000\n",
    "num_samples_part3 = 300\n",
    "\n",
    "with open(part1_file, 'r') as f:\n",
    "    part1_lines = [line.strip() for line in f if line.strip()]\n",
    "sampled_part1 = random.sample(part1_lines, num_samples_part1)\n",
    "\n",
    "with open(part2_file, 'r') as f:\n",
    "    part2_lines = [line.strip() for line in f if line.strip()]\n",
    "sampled_part2 = random.sample(part2_lines, num_samples_part2)\n",
    "\n",
    "with open(part3_file, 'r') as f:\n",
    "    part3_lines = [line.strip() for line in f if line.strip()]\n",
    "sampled_part3 = random.sample(part3_lines, num_samples_part3)\n",
    "\n",
    "with open(output_file, 'w') as f:\n",
    "    for name in sampled_part1 + sampled_part2 + sampled_part3:\n",
    "        full_path = os.path.join(name.replace('/', '\\\\'))\n",
    "        f.write(full_path + '\\n')\n",
    "\n",
    "print(\"DONE\")\n"
   ],
   "id": "37e510b22fe95ac1",
   "outputs": [
    {
     "name": "stdout",
     "output_type": "stream",
     "text": [
      "DONE\n"
     ]
    }
   ],
   "execution_count": 11
  },
  {
   "metadata": {
    "ExecuteTime": {
     "end_time": "2025-05-01T16:49:55.677881Z",
     "start_time": "2025-05-01T16:49:55.656327Z"
    }
   },
   "cell_type": "code",
   "source": [
    "import os\n",
    "\n",
    "path = 'E:\\\\Pycharm\\\\Age-Detection-Using-Neural-Network\\\\'\n",
    "folder_path = path + 'UTKFace_small/DATA_FACE'\n",
    "output_file = 'UTKFace_small/DATA_FACE.txt'\n",
    "\n",
    "image_names = [f for f in os.listdir(folder_path) if f.lower().endswith('.jpg')]\n",
    "\n",
    "with open(output_file, 'w') as f:\n",
    "    for name in image_names:\n",
    "        full_path = os.path.join('UTKFace_small/DATA_FACE', name)\n",
    "        f.write(full_path + '\\n')\n",
    "\n",
    "print(f\"Đã lưu {len(image_names)} tên ảnh vào '{output_file}'.\")\n"
   ],
   "id": "ae39bab89097d332",
   "outputs": [
    {
     "name": "stdout",
     "output_type": "stream",
     "text": [
      "Đã lưu 1864 tên ảnh vào 'UTKFace_small/DATA_FACE.txt'.\n"
     ]
    }
   ],
   "execution_count": 12
  }
 ],
 "metadata": {
  "kernelspec": {
   "display_name": "Python 3",
   "language": "python",
   "name": "python3"
  },
  "language_info": {
   "codemirror_mode": {
    "name": "ipython",
    "version": 2
   },
   "file_extension": ".py",
   "mimetype": "text/x-python",
   "name": "python",
   "nbconvert_exporter": "python",
   "pygments_lexer": "ipython2",
   "version": "2.7.6"
  }
 },
 "nbformat": 4,
 "nbformat_minor": 5
}
