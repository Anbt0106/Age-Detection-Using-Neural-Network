{
 "cells": [
  {
   "metadata": {
    "ExecuteTime": {
     "end_time": "2025-04-27T12:11:25.432273Z",
     "start_time": "2025-04-27T12:11:19.658861Z"
    }
   },
   "cell_type": "code",
   "source": [
    "import torch\n",
    "\n",
    "# Load a YOLOv5 model (options: yolov5n, yolov5s, yolov5m, yolov5l, yolov5x)\n",
    "model = torch.hub.load(\"ultralytics/yolov5\", \"yolov5s\")  # Default: yolov5s\n",
    "\n",
    "# Define the input image source (URL, local file, PIL image, OpenCV frame, numpy array, or list)\n",
    "img = \"yolov5/data/images/zidane.jpg\"  # Example image\n",
    "\n",
    "# Perform inference (handles batching, resizing, normalization automatically)\n",
    "results = model(img)\n",
    "\n",
    "# Process the results (options: .print(), .show(), .save(), .crop(), .pandas())\n",
    "results.print()  # Print results to console\n",
    "results.show()  # Display results in a window\n",
    "results.save()  # Save results to runs/detect/exp"
   ],
   "id": "71b94bc71b484382",
   "outputs": [
    {
     "name": "stderr",
     "output_type": "stream",
     "text": [
      "Using cache found in C:\\Users\\buian/.cache\\torch\\hub\\ultralytics_yolov5_master\n"
     ]
    },
    {
     "ename": "ModuleNotFoundError",
     "evalue": "No module named 'ultralytics'",
     "output_type": "error",
     "traceback": [
      "\u001B[1;31m---------------------------------------------------------------------------\u001B[0m",
      "\u001B[1;31mModuleNotFoundError\u001B[0m                       Traceback (most recent call last)",
      "File \u001B[1;32m~/.cache\\torch\\hub\\ultralytics_yolov5_master\\models\\common.py:27\u001B[0m\n\u001B[0;32m     26\u001B[0m \u001B[38;5;28;01mtry\u001B[39;00m:\n\u001B[1;32m---> 27\u001B[0m     \u001B[38;5;28;01mimport\u001B[39;00m\u001B[38;5;250m \u001B[39m\u001B[38;5;21;01multralytics\u001B[39;00m\n\u001B[0;32m     29\u001B[0m     \u001B[38;5;28;01massert\u001B[39;00m \u001B[38;5;28mhasattr\u001B[39m(ultralytics, \u001B[38;5;124m\"\u001B[39m\u001B[38;5;124m__version__\u001B[39m\u001B[38;5;124m\"\u001B[39m)  \u001B[38;5;66;03m# verify package is not directory\u001B[39;00m\n",
      "\u001B[1;31mModuleNotFoundError\u001B[0m: No module named 'ultralytics'",
      "\nDuring handling of the above exception, another exception occurred:\n",
      "\u001B[1;31mModuleNotFoundError\u001B[0m                       Traceback (most recent call last)",
      "Cell \u001B[1;32mIn[1], line 4\u001B[0m\n\u001B[0;32m      1\u001B[0m \u001B[38;5;28;01mimport\u001B[39;00m\u001B[38;5;250m \u001B[39m\u001B[38;5;21;01mtorch\u001B[39;00m\n\u001B[0;32m      3\u001B[0m \u001B[38;5;66;03m# Load a YOLOv5 model (options: yolov5n, yolov5s, yolov5m, yolov5l, yolov5x)\u001B[39;00m\n\u001B[1;32m----> 4\u001B[0m model \u001B[38;5;241m=\u001B[39m \u001B[43mtorch\u001B[49m\u001B[38;5;241;43m.\u001B[39;49m\u001B[43mhub\u001B[49m\u001B[38;5;241;43m.\u001B[39;49m\u001B[43mload\u001B[49m\u001B[43m(\u001B[49m\u001B[38;5;124;43m\"\u001B[39;49m\u001B[38;5;124;43multralytics/yolov5\u001B[39;49m\u001B[38;5;124;43m\"\u001B[39;49m\u001B[43m,\u001B[49m\u001B[43m \u001B[49m\u001B[38;5;124;43m\"\u001B[39;49m\u001B[38;5;124;43myolov5s\u001B[39;49m\u001B[38;5;124;43m\"\u001B[39;49m\u001B[43m)\u001B[49m  \u001B[38;5;66;03m# Default: yolov5s\u001B[39;00m\n\u001B[0;32m      6\u001B[0m \u001B[38;5;66;03m# Define the input image source (URL, local file, PIL image, OpenCV frame, numpy array, or list)\u001B[39;00m\n\u001B[0;32m      7\u001B[0m img \u001B[38;5;241m=\u001B[39m \u001B[38;5;124m\"\u001B[39m\u001B[38;5;124myolov5/data/images/zidane.jpg\u001B[39m\u001B[38;5;124m\"\u001B[39m  \u001B[38;5;66;03m# Example image\u001B[39;00m\n",
      "File \u001B[1;32m~\\anaconda3\\envs\\pt_gpu\\lib\\site-packages\\torch\\hub.py:647\u001B[0m, in \u001B[0;36mload\u001B[1;34m(repo_or_dir, model, source, trust_repo, force_reload, verbose, skip_validation, *args, **kwargs)\u001B[0m\n\u001B[0;32m    637\u001B[0m \u001B[38;5;28;01mif\u001B[39;00m source \u001B[38;5;241m==\u001B[39m \u001B[38;5;124m\"\u001B[39m\u001B[38;5;124mgithub\u001B[39m\u001B[38;5;124m\"\u001B[39m:\n\u001B[0;32m    638\u001B[0m     repo_or_dir \u001B[38;5;241m=\u001B[39m _get_cache_or_reload(\n\u001B[0;32m    639\u001B[0m         repo_or_dir,\n\u001B[0;32m    640\u001B[0m         force_reload,\n\u001B[1;32m   (...)\u001B[0m\n\u001B[0;32m    644\u001B[0m         skip_validation\u001B[38;5;241m=\u001B[39mskip_validation,\n\u001B[0;32m    645\u001B[0m     )\n\u001B[1;32m--> 647\u001B[0m model \u001B[38;5;241m=\u001B[39m _load_local(repo_or_dir, model, \u001B[38;5;241m*\u001B[39margs, \u001B[38;5;241m*\u001B[39m\u001B[38;5;241m*\u001B[39mkwargs)\n\u001B[0;32m    648\u001B[0m \u001B[38;5;28;01mreturn\u001B[39;00m model\n",
      "File \u001B[1;32m~\\anaconda3\\envs\\pt_gpu\\lib\\site-packages\\torch\\hub.py:676\u001B[0m, in \u001B[0;36m_load_local\u001B[1;34m(hubconf_dir, model, *args, **kwargs)\u001B[0m\n\u001B[0;32m    673\u001B[0m     hub_module \u001B[38;5;241m=\u001B[39m _import_module(MODULE_HUBCONF, hubconf_path)\n\u001B[0;32m    675\u001B[0m     entry \u001B[38;5;241m=\u001B[39m _load_entry_from_hubconf(hub_module, model)\n\u001B[1;32m--> 676\u001B[0m     model \u001B[38;5;241m=\u001B[39m entry(\u001B[38;5;241m*\u001B[39margs, \u001B[38;5;241m*\u001B[39m\u001B[38;5;241m*\u001B[39mkwargs)\n\u001B[0;32m    678\u001B[0m \u001B[38;5;28;01mreturn\u001B[39;00m model\n",
      "File \u001B[1;32m~/.cache\\torch\\hub\\ultralytics_yolov5_master\\hubconf.py:215\u001B[0m, in \u001B[0;36myolov5s\u001B[1;34m(pretrained, channels, classes, autoshape, _verbose, device)\u001B[0m\n\u001B[0;32m    176\u001B[0m \u001B[38;5;28;01mdef\u001B[39;00m\u001B[38;5;250m \u001B[39m\u001B[38;5;21myolov5s\u001B[39m(pretrained\u001B[38;5;241m=\u001B[39m\u001B[38;5;28;01mTrue\u001B[39;00m, channels\u001B[38;5;241m=\u001B[39m\u001B[38;5;241m3\u001B[39m, classes\u001B[38;5;241m=\u001B[39m\u001B[38;5;241m80\u001B[39m, autoshape\u001B[38;5;241m=\u001B[39m\u001B[38;5;28;01mTrue\u001B[39;00m, _verbose\u001B[38;5;241m=\u001B[39m\u001B[38;5;28;01mTrue\u001B[39;00m, device\u001B[38;5;241m=\u001B[39m\u001B[38;5;28;01mNone\u001B[39;00m):\n\u001B[0;32m    177\u001B[0m \u001B[38;5;250m    \u001B[39m\u001B[38;5;124;03m\"\"\"\u001B[39;00m\n\u001B[0;32m    178\u001B[0m \u001B[38;5;124;03m    Create a YOLOv5-small (yolov5s) model with options for pretraining, input channels, class count, autoshaping,\u001B[39;00m\n\u001B[0;32m    179\u001B[0m \u001B[38;5;124;03m    verbosity, and device configuration.\u001B[39;00m\n\u001B[1;32m   (...)\u001B[0m\n\u001B[0;32m    213\u001B[0m \u001B[38;5;124;03m        the [YOLOv5 PyTorch Hub Documentation](https://pytorch.org/hub/ultralytics_yolov5/).\u001B[39;00m\n\u001B[0;32m    214\u001B[0m \u001B[38;5;124;03m    \"\"\"\u001B[39;00m\n\u001B[1;32m--> 215\u001B[0m     \u001B[38;5;28;01mreturn\u001B[39;00m \u001B[43m_create\u001B[49m\u001B[43m(\u001B[49m\u001B[38;5;124;43m\"\u001B[39;49m\u001B[38;5;124;43myolov5s\u001B[39;49m\u001B[38;5;124;43m\"\u001B[39;49m\u001B[43m,\u001B[49m\u001B[43m \u001B[49m\u001B[43mpretrained\u001B[49m\u001B[43m,\u001B[49m\u001B[43m \u001B[49m\u001B[43mchannels\u001B[49m\u001B[43m,\u001B[49m\u001B[43m \u001B[49m\u001B[43mclasses\u001B[49m\u001B[43m,\u001B[49m\u001B[43m \u001B[49m\u001B[43mautoshape\u001B[49m\u001B[43m,\u001B[49m\u001B[43m \u001B[49m\u001B[43m_verbose\u001B[49m\u001B[43m,\u001B[49m\u001B[43m \u001B[49m\u001B[43mdevice\u001B[49m\u001B[43m)\u001B[49m\n",
      "File \u001B[1;32m~/.cache\\torch\\hub\\ultralytics_yolov5_master\\hubconf.py:54\u001B[0m, in \u001B[0;36m_create\u001B[1;34m(name, pretrained, channels, classes, autoshape, verbose, device)\u001B[0m\n\u001B[0;32m     17\u001B[0m \u001B[38;5;250m\u001B[39m\u001B[38;5;124;03m\"\"\"\u001B[39;00m\n\u001B[0;32m     18\u001B[0m \u001B[38;5;124;03mCreates or loads a YOLOv5 model, with options for pretrained weights and model customization.\u001B[39;00m\n\u001B[0;32m     19\u001B[0m \n\u001B[1;32m   (...)\u001B[0m\n\u001B[0;32m     50\u001B[0m \u001B[38;5;124;03m    [YOLOv5 PyTorch Hub Documentation](https://docs.ultralytics.com/yolov5/tutorials/pytorch_hub_model_loading/).\u001B[39;00m\n\u001B[0;32m     51\u001B[0m \u001B[38;5;124;03m\"\"\"\u001B[39;00m\n\u001B[0;32m     52\u001B[0m \u001B[38;5;28;01mfrom\u001B[39;00m\u001B[38;5;250m \u001B[39m\u001B[38;5;21;01mpathlib\u001B[39;00m\u001B[38;5;250m \u001B[39m\u001B[38;5;28;01mimport\u001B[39;00m Path\n\u001B[1;32m---> 54\u001B[0m \u001B[38;5;28;01mfrom\u001B[39;00m\u001B[38;5;250m \u001B[39m\u001B[38;5;21;01mmodels\u001B[39;00m\u001B[38;5;21;01m.\u001B[39;00m\u001B[38;5;21;01mcommon\u001B[39;00m\u001B[38;5;250m \u001B[39m\u001B[38;5;28;01mimport\u001B[39;00m AutoShape, DetectMultiBackend\n\u001B[0;32m     55\u001B[0m \u001B[38;5;28;01mfrom\u001B[39;00m\u001B[38;5;250m \u001B[39m\u001B[38;5;21;01mmodels\u001B[39;00m\u001B[38;5;21;01m.\u001B[39;00m\u001B[38;5;21;01mexperimental\u001B[39;00m\u001B[38;5;250m \u001B[39m\u001B[38;5;28;01mimport\u001B[39;00m attempt_load\n\u001B[0;32m     56\u001B[0m \u001B[38;5;28;01mfrom\u001B[39;00m\u001B[38;5;250m \u001B[39m\u001B[38;5;21;01mmodels\u001B[39;00m\u001B[38;5;21;01m.\u001B[39;00m\u001B[38;5;21;01myolo\u001B[39;00m\u001B[38;5;250m \u001B[39m\u001B[38;5;28;01mimport\u001B[39;00m ClassificationModel, DetectionModel, SegmentationModel\n",
      "File \u001B[1;32m~/.cache\\torch\\hub\\ultralytics_yolov5_master\\models\\common.py:34\u001B[0m\n\u001B[0;32m     31\u001B[0m     \u001B[38;5;28;01mimport\u001B[39;00m\u001B[38;5;250m \u001B[39m\u001B[38;5;21;01mos\u001B[39;00m\n\u001B[0;32m     33\u001B[0m     os\u001B[38;5;241m.\u001B[39msystem(\u001B[38;5;124m\"\u001B[39m\u001B[38;5;124mpip install -U ultralytics\u001B[39m\u001B[38;5;124m\"\u001B[39m)\n\u001B[1;32m---> 34\u001B[0m     \u001B[38;5;28;01mimport\u001B[39;00m\u001B[38;5;250m \u001B[39m\u001B[38;5;21;01multralytics\u001B[39;00m\n\u001B[0;32m     36\u001B[0m \u001B[38;5;28;01mfrom\u001B[39;00m\u001B[38;5;250m \u001B[39m\u001B[38;5;21;01multralytics\u001B[39;00m\u001B[38;5;21;01m.\u001B[39;00m\u001B[38;5;21;01mutils\u001B[39;00m\u001B[38;5;21;01m.\u001B[39;00m\u001B[38;5;21;01mplotting\u001B[39;00m\u001B[38;5;250m \u001B[39m\u001B[38;5;28;01mimport\u001B[39;00m Annotator, colors, save_one_box\n\u001B[0;32m     38\u001B[0m \u001B[38;5;28;01mfrom\u001B[39;00m\u001B[38;5;250m \u001B[39m\u001B[38;5;21;01mutils\u001B[39;00m\u001B[38;5;250m \u001B[39m\u001B[38;5;28;01mimport\u001B[39;00m TryExcept\n",
      "\u001B[1;31mModuleNotFoundError\u001B[0m: No module named 'ultralytics'"
     ]
    }
   ],
   "execution_count": 1
  }
 ],
 "metadata": {
  "kernelspec": {
   "display_name": "Python 3",
   "language": "python",
   "name": "python3"
  },
  "language_info": {
   "codemirror_mode": {
    "name": "ipython",
    "version": 2
   },
   "file_extension": ".py",
   "mimetype": "text/x-python",
   "name": "python",
   "nbconvert_exporter": "python",
   "pygments_lexer": "ipython2",
   "version": "2.7.6"
  }
 },
 "nbformat": 4,
 "nbformat_minor": 5
}
